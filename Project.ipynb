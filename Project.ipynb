{
 "cells": [
  {
   "cell_type": "code",
   "execution_count": 89,
   "metadata": {},
   "outputs": [],
   "source": [
    "import requests\n",
    "from bs4 import BeautifulSoup\n",
    "import pandas as pd\n",
    "import concurrent.futures\n",
    "import requests\n",
    "\n",
    "API_KEY = \"f5813332cb558d374cbcb057ea2fc48b\"\n",
    "link = \"https://en.wikipedia.org/wiki/List_of_highest-grossing_films\"\n",
    "\n",
    "r = requests.get(link)\n",
    "\n",
    "soup = BeautifulSoup(r.content)"
   ]
  },
  {
   "cell_type": "code",
   "execution_count": null,
   "metadata": {},
   "outputs": [],
   "source": [
    "# In the wikipedia page there are multiple tables, the first one is selected (highest-grossing films)\n",
    "table = soup.find_all(\"table\", {\"class\": \"wikitable\"})[0]\n",
    "rows = table.find_all(\"tr\")\n",
    "\n",
    "movies = []\n",
    "\n",
    "for row in rows:\n",
    "    # Print all text in italic\n",
    "    if row.find(\"i\"):\n",
    "        movies.append(row.find(\"i\").text)\n",
    "\n",
    "# Create dataframe with the movies\n",
    "movies_df = pd.DataFrame(movies, columns=[\"Movie\"])"
   ]
  },
  {
   "cell_type": "code",
   "execution_count": null,
   "metadata": {
    "collapsed": false
   },
   "outputs": [],
   "source": [
    "def find_movie_id(movie_name):\n",
    "    \"\"\"Find the TMDb ID for a given movie name.\"\"\"\n",
    "    url = f\"https://api.themoviedb.org/3/search/movie?api_key={API_KEY}&query={movie_name}\"\n",
    "    response = requests.get(url)\n",
    "    data = response.json()\n",
    "    # Assuming the first search result is the movie you're looking for\n",
    "    if data['results']:\n",
    "        return data['results'][0]['id']\n",
    "    else:\n",
    "        return None\n",
    "\n",
    "def movies_from_ID(person_id):\n",
    "    url = f\"https://api.themoviedb.org/3/person/{person_id}/movie_credits?api_key={api_key}\"\n",
    "    response = requests.get(url, headers=headers)\n",
    "    data = response.json()\n",
    "    # Return the whole movie dictionary, not just the title\n",
    "    return [movie for movie in data['cast'] if movie['release_date'][:4] >= '2010']"
   ]
  },
  {
   "cell_type": "code",
   "execution_count": 84,
   "metadata": {},
   "outputs": [],
   "source": [
    "api_key = \"f5813332cb558d374cbcb057ea2fc48b\"\n",
    "headers = {\"accept\": \"application/json\"}\n",
    "\n",
    "all_people_names = []\n",
    "all_people_ids = []\n",
    "for page in range(1, 5):\n",
    "    url = f\"https://api.themoviedb.org/3/person/popular?api_key={api_key}&page={page}\"\n",
    "    response = requests.get(url, headers=headers)\n",
    "    data = response.json()\n",
    "    for person in data['results']:\n",
    "        all_people_names.append(person['name'])\n",
    "        all_people_ids.append(person['id'])"
   ]
  },
  {
   "cell_type": "code",
   "execution_count": 85,
   "metadata": {},
   "outputs": [],
   "source": [
    "def movies_from_ID(person_id):\n",
    "    url = f\"https://api.themoviedb.org/3/person/{person_id}/movie_credits?api_key={api_key}\"\n",
    "    response = requests.get(url, headers=headers)\n",
    "    data = response.json()\n",
    "    return [movie['title'] for movie in data['cast'] if movie['release_date'][:4] >= '2010']\n"
   ]
  },
  {
   "cell_type": "code",
   "execution_count": 86,
   "metadata": {},
   "outputs": [],
   "source": [
    "# Create a DataFrame with 'actors' column\n",
    "df_actors = pd.DataFrame(all_people_names, columns=['actors'])\n",
    "\n",
    "# Add 'ids' column to the DataFrame\n",
    "df_actors['actor_ids'] = all_people_ids\n",
    "\n",
    "# Fetch movies for each actor and add them to 'movies' column\n",
    "with concurrent.futures.ThreadPoolExecutor() as executor:\n",
    "    df_actors['movies'] = list(executor.map(movies_from_ID, df_actors['actor_ids']))\n"
   ]
  },
  {
   "cell_type": "code",
   "execution_count": null,
   "metadata": {
    "collapsed": false
   },
   "outputs": [],
   "source": [
    "# Add a column with the movie_IDs by applying the find_movie_id function to the Movie column\n",
    "# Get unique movies\n",
    "unique_movies = df_actors[\"movies\"].copy().explode().unique()\n",
    "\n",
    "# Create a new DataFrame with the unique movies\n",
    "movies_df = pd.DataFrame(unique_movies, columns=['Movie'])\n",
    "print(len(movies_df))\n",
    "movies_df =  movies_df.head(10)\n",
    "\n",
    "movies_df[\"Movie_ID\"] = movies_df[\"Movie\"].apply(find_movie_id)\n",
    "\n",
    "movie_casts = []\n",
    "movie_ratings = []\n",
    "movie_popularities = []\n",
    "movie_genres = []\n",
    "movie_revenues = []\n",
    "movie_release_dates = []\n",
    "\n",
    "# Retrieve additional information for each movie\n",
    "headers = {\"accept\": \"application/json\"}\n",
    "\n",
    "for id in movies_df[\"Movie_ID\"]:    \n",
    "    url = f\"https://api.themoviedb.org/3/movie/{id}?api_key={API_KEY}\"\n",
    "    response = requests.get(url, headers=headers)\n",
    "    data = response.json()\n",
    "\n",
    "    movie_ratings.append(data['vote_average'])\n",
    "    movie_popularities.append(data['popularity'])\n",
    "    movie_genres.append([genre['name'] for genre in data['genres']])\n",
    "    movie_revenues.append(data['revenue'])\n",
    "    movie_release_dates.append(data['release_date'])\n",
    "\n",
    "    url = f\"https://api.themoviedb.org/3/movie/{id}/credits?api_key={API_KEY}\"\n",
    "    response = requests.get(url, headers=headers)\n",
    "    data = response.json()\n",
    "    \n",
    "    cast = [actor['name'] for actor in data['cast']]\n",
    "    movie_casts.append(cast)\n",
    "\n",
    "# Add the additional information to the dataframe\n",
    "movies_df[\"Rating\"] = movie_ratings\n",
    "movies_df[\"Popularity\"] = movie_popularities\n",
    "movies_df[\"Genres\"] = movie_genres\n",
    "movies_df[\"Revenue\"] = movie_revenues\n",
    "movies_df[\"Release_Date\"] = movie_release_dates\n",
    "movies_df[\"Cast\"] = movie_casts"
   ]
  },
  {
   "cell_type": "code",
   "execution_count": null,
   "metadata": {
    "collapsed": false
   },
   "outputs": [],
   "source": [
    "movies_df"
   ]
  },
  {
   "cell_type": "code",
   "execution_count": 92,
   "metadata": {},
   "outputs": [],
   "source": [
    "import itertools\n",
    "import networkx as nx\n",
    "from collections import defaultdict\n",
    "\n",
    "def fetch_page(page):\n",
    "    url = f\"https://api.themoviedb.org/3/person/popular?api_key={api_key}&page={page}\"\n",
    "    response = requests.get(url, headers=headers)\n",
    "    data = response.json()\n",
    "    return [(person['name'], person['id']) for person in data['results']]"
   ]
  },
  {
   "cell_type": "code",
   "execution_count": 93,
   "metadata": {},
   "outputs": [],
   "source": [
    "with concurrent.futures.ThreadPoolExecutor() as executor:\n",
    "    pages = list(range(1, 100))\n",
    "    people = list(executor.map(fetch_page, pages))\n",
    "\n",
    "all_people_names, all_people_ids = zip(*itertools.chain(*people))"
   ]
  },
  {
   "cell_type": "code",
   "execution_count": 94,
   "metadata": {},
   "outputs": [],
   "source": [
    "# Create a DataFrame with 'actors' column\n",
    "df_actors = pd.DataFrame(all_people_names, columns=['actors'])\n",
    "\n",
    "# Add 'ids' column to the DataFrame\n",
    "df_actors['actor_ids'] = all_people_ids\n",
    "\n",
    "# Fetch movies for each actor and add them to 'movies' column\n",
    "with concurrent.futures.ThreadPoolExecutor() as executor:\n",
    "    df_actors['movies'] = list(executor.map(movies_from_ID, df_actors['actor_ids']))"
   ]
  },
  {
   "cell_type": "code",
   "execution_count": 95,
   "metadata": {},
   "outputs": [],
   "source": [
    "# Step 1: Prepare the Data\n",
    "movie_to_actors = defaultdict(list)\n",
    "\n",
    "for _, row in df_actors.iterrows():\n",
    "    actor = row['actors']\n",
    "    movies = row['movies']\n",
    "    for movie in movies:\n",
    "        movie_to_actors[movie].append(actor)\n",
    "\n",
    "edges = []\n",
    "for actors in movie_to_actors.values():\n",
    "    edges.extend(itertools.combinations(actors, 2))\n",
    "\n",
    "# Step 2: Create the Graph\n",
    "G = nx.Graph()\n",
    "for edge in edges:\n",
    "    G.add_edge(*edge)\n",
    "\n",
    "# Step 3: Analyze the Graph\n",
    "degrees = dict(G.degree())\n",
    "most_connected_actors = sorted(degrees.items(), key=lambda x: x[1], reverse=True)"
   ]
  },
  {
   "cell_type": "code",
   "execution_count": 97,
   "metadata": {},
   "outputs": [
    {
     "name": "stdout",
     "output_type": "stream",
     "text": [
      "Graph with 1617 nodes and 41022 edges\n"
     ]
    }
   ],
   "source": [
    "print(G)"
   ]
  }
 ],
 "metadata": {
  "kernelspec": {
   "display_name": "comsocsci2024",
   "language": "python",
   "name": "python3"
  },
  "language_info": {
   "codemirror_mode": {
    "name": "ipython",
    "version": 3
   },
   "file_extension": ".py",
   "mimetype": "text/x-python",
   "name": "python",
   "nbconvert_exporter": "python",
   "pygments_lexer": "ipython3",
   "version": "3.10.13"
  }
 },
 "nbformat": 4,
 "nbformat_minor": 2
}
