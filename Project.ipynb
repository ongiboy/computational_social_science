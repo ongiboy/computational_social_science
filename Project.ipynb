{
 "cells": [
  {
   "cell_type": "code",
   "execution_count": 3,
   "metadata": {},
   "outputs": [
    {
     "name": "stdout",
     "output_type": "stream",
     "text": [
      "{\"adult\":false,\"backdrop_path\":\"/4qCqAdHcNKeAHcK8tJ8wNJZa9cx.jpg\",\"belongs_to_collection\":{\"id\":10,\"name\":\"Star Wars Collection\",\"poster_path\":\"/r8Ph5MYXL04Qzu4QBbq2KjqwtkQ.jpg\",\"backdrop_path\":\"/d8duYyyC9J5T825Hg7grmaabfxQ.jpg\"},\"budget\":11000000,\"genres\":[{\"id\":12,\"name\":\"Adventure\"},{\"id\":28,\"name\":\"Action\"},{\"id\":878,\"name\":\"Science Fiction\"}],\"homepage\":\"http://www.starwars.com/films/star-wars-episode-iv-a-new-hope\",\"id\":11,\"imdb_id\":\"tt0076759\",\"original_language\":\"en\",\"original_title\":\"Star Wars\",\"overview\":\"Princess Leia is captured and held hostage by the evil Imperial forces in their effort to take over the galactic Empire. Venturesome Luke Skywalker and dashing captain Han Solo team together with the loveable robot duo R2-D2 and C-3PO to rescue the beautiful princess and restore peace and justice in the Empire.\",\"popularity\":113.59,\"poster_path\":\"/6FfCtAuVAW8XJjZ7eWeLibRLWTw.jpg\",\"production_companies\":[{\"id\":1,\"logo_path\":\"/tlVSws0RvvtPBwViUyOFAO0vcQS.png\",\"name\":\"Lucasfilm Ltd.\",\"origin_country\":\"US\"},{\"id\":25,\"logo_path\":\"/qZCc1lty5FzX30aOCVRBLzaVmcp.png\",\"name\":\"20th Century Fox\",\"origin_country\":\"US\"}],\"production_countries\":[{\"iso_3166_1\":\"US\",\"name\":\"United States of America\"}],\"release_date\":\"1977-05-25\",\"revenue\":775398007,\"runtime\":121,\"spoken_languages\":[{\"english_name\":\"English\",\"iso_639_1\":\"en\",\"name\":\"English\"}],\"status\":\"Released\",\"tagline\":\"A long time ago in a galaxy far, far away...\",\"title\":\"Star Wars\",\"video\":false,\"vote_average\":8.204,\"vote_count\":19827}\n"
     ]
    }
   ],
   "source": [
    "import requests\n",
    "\n",
    "url = \"https://api.themoviedb.org/3/movie/11?api_key=f5813332cb558d374cbcb057ea2fc48b\"\n",
    "\n",
    "headers = {\"accept\": \"application/json\"}\n",
    "\n",
    "response = requests.get(url, headers=headers)\n",
    "\n",
    "print(response.text)"
   ]
  },
  {
   "cell_type": "code",
   "execution_count": 3,
   "metadata": {},
   "outputs": [],
   "source": [
    "import requests\n",
    "from bs4 import BeautifulSoup\n",
    "\n",
    "link = \"https://en.wikipedia.org/wiki/List_of_highest-grossing_films\"\n",
    "\n",
    "r = requests.get(link)\n",
    "\n",
    "soup = BeautifulSoup(r.content)"
   ]
  },
  {
   "cell_type": "code",
   "execution_count": 13,
   "metadata": {},
   "outputs": [
    {
     "data": {
      "text/plain": [
       "['Avatar',\n",
       " 'Avengers: Endgame',\n",
       " 'Avatar: The Way of Water',\n",
       " 'Titanic',\n",
       " 'Star Wars: The Force Awakens',\n",
       " 'Avengers: Infinity War',\n",
       " 'Spider-Man: No Way Home',\n",
       " 'Jurassic World',\n",
       " 'The Lion King',\n",
       " 'The Avengers',\n",
       " 'Furious 7',\n",
       " 'Top Gun: Maverick',\n",
       " 'Frozen II',\n",
       " 'Barbie',\n",
       " 'Avengers: Age of Ultron',\n",
       " 'The Super Mario Bros. Movie',\n",
       " 'Black Panther',\n",
       " 'Harry Potter and the Deathly Hallows – Part 2',\n",
       " 'Star Wars: The Last Jedi',\n",
       " 'Jurassic World: Fallen Kingdom',\n",
       " 'Frozen',\n",
       " 'Beauty and the Beast',\n",
       " 'Incredibles 2',\n",
       " 'The Fate of the Furious',\n",
       " 'Iron Man 3',\n",
       " 'Minions',\n",
       " 'Captain America: Civil War',\n",
       " 'Aquaman',\n",
       " 'The Lord of the Rings: The Return of the King',\n",
       " 'Spider-Man: Far From Home',\n",
       " 'Captain Marvel',\n",
       " 'Transformers: Dark of the Moon',\n",
       " 'Skyfall',\n",
       " 'Transformers: Age of Extinction',\n",
       " 'The Dark Knight Rises',\n",
       " 'Joker',\n",
       " 'Star Wars: The Rise of Skywalker',\n",
       " 'Toy Story 4',\n",
       " 'Toy Story 3',\n",
       " \"Pirates of the Caribbean: Dead Man's Chest\",\n",
       " 'Rogue One: A Star Wars Story',\n",
       " 'Aladdin',\n",
       " 'Pirates of the Caribbean: On Stranger Tides',\n",
       " 'Jurassic Park',\n",
       " 'Despicable Me 3',\n",
       " 'Finding Dory',\n",
       " 'Star Wars: Episode I – The Phantom Menace',\n",
       " 'Alice in Wonderland',\n",
       " 'Zootopia',\n",
       " 'The Hobbit: An Unexpected Journey']"
      ]
     },
     "execution_count": 13,
     "metadata": {},
     "output_type": "execute_result"
    }
   ],
   "source": [
    "# In the wikipedia page there are multiple tables, the first one is selected (highest-grossing films)\n",
    "table = soup.find_all(\"table\", {\"class\": \"wikitable\"})[0]\n",
    "rows = table.find_all(\"tr\")\n",
    "\n",
    "movies = []\n",
    "\n",
    "for row in rows:\n",
    "    # Print all text in italic\n",
    "    if row.find(\"i\"):\n",
    "        movies.append(row.find(\"i\").text)\n",
    "\n",
    "movies"
   ]
  }
 ],
 "metadata": {
  "kernelspec": {
   "display_name": "comsocsci2024",
   "language": "python",
   "name": "python3"
  },
  "language_info": {
   "codemirror_mode": {
    "name": "ipython",
    "version": 3
   },
   "file_extension": ".py",
   "mimetype": "text/x-python",
   "name": "python",
   "nbconvert_exporter": "python",
   "pygments_lexer": "ipython3",
   "version": "3.10.13"
  }
 },
 "nbformat": 4,
 "nbformat_minor": 2
}
