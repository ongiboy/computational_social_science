{
 "cells": [
  {
   "cell_type": "code",
   "execution_count": 4,
   "metadata": {},
   "outputs": [
    {
     "name": "stdout",
     "output_type": "stream",
     "text": [
      "{\"adult\":false,\"backdrop_path\":\"/4qCqAdHcNKeAHcK8tJ8wNJZa9cx.jpg\",\"belongs_to_collection\":{\"id\":10,\"name\":\"Star Wars Collection\",\"poster_path\":\"/r8Ph5MYXL04Qzu4QBbq2KjqwtkQ.jpg\",\"backdrop_path\":\"/d8duYyyC9J5T825Hg7grmaabfxQ.jpg\"},\"budget\":11000000,\"genres\":[{\"id\":12,\"name\":\"Adventure\"},{\"id\":28,\"name\":\"Action\"},{\"id\":878,\"name\":\"Science Fiction\"}],\"homepage\":\"http://www.starwars.com/films/star-wars-episode-iv-a-new-hope\",\"id\":11,\"imdb_id\":\"tt0076759\",\"original_language\":\"en\",\"original_title\":\"Star Wars\",\"overview\":\"Princess Leia is captured and held hostage by the evil Imperial forces in their effort to take over the galactic Empire. Venturesome Luke Skywalker and dashing captain Han Solo team together with the loveable robot duo R2-D2 and C-3PO to rescue the beautiful princess and restore peace and justice in the Empire.\",\"popularity\":113.59,\"poster_path\":\"/6FfCtAuVAW8XJjZ7eWeLibRLWTw.jpg\",\"production_companies\":[{\"id\":1,\"logo_path\":\"/tlVSws0RvvtPBwViUyOFAO0vcQS.png\",\"name\":\"Lucasfilm Ltd.\",\"origin_country\":\"US\"},{\"id\":25,\"logo_path\":\"/qZCc1lty5FzX30aOCVRBLzaVmcp.png\",\"name\":\"20th Century Fox\",\"origin_country\":\"US\"}],\"production_countries\":[{\"iso_3166_1\":\"US\",\"name\":\"United States of America\"}],\"release_date\":\"1977-05-25\",\"revenue\":775398007,\"runtime\":121,\"spoken_languages\":[{\"english_name\":\"English\",\"iso_639_1\":\"en\",\"name\":\"English\"}],\"status\":\"Released\",\"tagline\":\"A long time ago in a galaxy far, far away...\",\"title\":\"Star Wars\",\"video\":false,\"vote_average\":8.204,\"vote_count\":19827}\n",
      "{\"adult\":false,\"backdrop_path\":\"/eCynaAOgYYiw5yN5lBwz3IxqvaW.jpg\",\"belongs_to_collection\":{\"id\":137697,\"name\":\"Finding Nemo Collection\",\"poster_path\":\"/xwggrEugjcJDuabIWvK2CpmK91z.jpg\",\"backdrop_path\":\"/2hC8HHRUvwRljYKIcQDMyMbLlxz.jpg\"},\"budget\":94000000,\"genres\":[{\"id\":16,\"name\":\"Animation\"},{\"id\":10751,\"name\":\"Family\"}],\"homepage\":\"http://movies.disney.com/finding-nemo\",\"id\":12,\"imdb_id\":\"tt0266543\",\"original_language\":\"en\",\"original_title\":\"Finding Nemo\",\"overview\":\"Nemo, an adventurous young clownfish, is unexpectedly taken from his Great Barrier Reef home to a dentist's office aquarium. It's up to his worrisome father Marlin and a friendly but forgetful fish Dory to bring Nemo home -- meeting vegetarian sharks, surfer dude turtles, hypnotic jellyfish, hungry seagulls, and more along the way.\",\"popularity\":93.229,\"poster_path\":\"/eHuGQ10FUzK1mdOY69wF5pGgEf5.jpg\",\"production_companies\":[{\"id\":3,\"logo_path\":\"/1TjvGVDMYsj6JBxOAkUHpPEwLf7.png\",\"name\":\"Pixar\",\"origin_country\":\"US\"}],\"production_countries\":[{\"iso_3166_1\":\"US\",\"name\":\"United States of America\"}],\"release_date\":\"2003-05-30\",\"revenue\":940335536,\"runtime\":100,\"spoken_languages\":[{\"english_name\":\"English\",\"iso_639_1\":\"en\",\"name\":\"English\"}],\"status\":\"Released\",\"tagline\":\"There are 3.7 trillion fish in the ocean. They're looking for one.\",\"title\":\"Finding Nemo\",\"video\":false,\"vote_average\":7.824,\"vote_count\":18605}\n",
      "{\"adult\":false,\"backdrop_path\":\"/qdIMHd4sEfJSckfVJfKQvisL02a.jpg\",\"belongs_to_collection\":null,\"budget\":55000000,\"genres\":[{\"id\":35,\"name\":\"Comedy\"},{\"id\":18,\"name\":\"Drama\"},{\"id\":10749,\"name\":\"Romance\"}],\"homepage\":\"https://www.paramountmovies.com/movies/forrest-gump\",\"id\":13,\"imdb_id\":\"tt0109830\",\"original_language\":\"en\",\"original_title\":\"Forrest Gump\",\"overview\":\"A man with a low IQ has accomplished great things in his life and been present during significant historic events—in each case, far exceeding what anyone imagined he could do. But despite all he has achieved, his one true love eludes him.\",\"popularity\":103.287,\"poster_path\":\"/arw2vcBveWOVZr6pxd9XTd1TdQa.jpg\",\"production_companies\":[{\"id\":4,\"logo_path\":\"/gz66EfNoYPqHTYI4q9UEN4CbHRc.png\",\"name\":\"Paramount\",\"origin_country\":\"US\"},{\"id\":21920,\"logo_path\":null,\"name\":\"The Steve Tisch Company\",\"origin_country\":\"\"},{\"id\":412,\"logo_path\":null,\"name\":\"Wendy Finerman Productions\",\"origin_country\":\"\"}],\"production_countries\":[{\"iso_3166_1\":\"US\",\"name\":\"United States of America\"}],\"release_date\":\"1994-06-23\",\"revenue\":677387716,\"runtime\":142,\"spoken_languages\":[{\"english_name\":\"English\",\"iso_639_1\":\"en\",\"name\":\"English\"}],\"status\":\"Released\",\"tagline\":\"The world will never be the same once you've seen it through the eyes of Forrest Gump.\",\"title\":\"Forrest Gump\",\"video\":false,\"vote_average\":8.5,\"vote_count\":26401}\n"
     ]
    }
   ],
   "source": [
    "import requests\n",
    "\n",
    "movie_ids = [11, 12, 13] \n",
    "api_key = \"f5813332cb558d374cbcb057ea2fc48b\"\n",
    "headers = {\"accept\": \"application/json\"}\n",
    "\n",
    "for movie_id in movie_ids:\n",
    "    url = f\"https://api.themoviedb.org/3/movie/{movie_id}?api_key={api_key}\"\n",
    "    response = requests.get(url, headers=headers)\n",
    "    print(response.text)"
   ]
  },
  {
   "cell_type": "code",
   "execution_count": 6,
   "metadata": {},
   "outputs": [],
   "source": [
    "import requests\n",
    "import pandas as pd\n",
    "\n",
    "api_key = \"f5813332cb558d374cbcb057ea2fc48b\"\n",
    "headers = {\"accept\": \"application/json\"}"
   ]
  },
  {
   "cell_type": "code",
   "execution_count": 7,
   "metadata": {},
   "outputs": [],
   "source": [
    "# Get the top 100 movies \n",
    "top_100_movies = []\n",
    "for page in range(1, 6):\n",
    "    url = f\"https://api.themoviedb.org/3/discover/movie?api_key={api_key}&sort_by=popularity.desc&page={page}\"\n",
    "    response = requests.get(url, headers=headers)\n",
    "    data = response.json()\n",
    "    top_100_movies.extend(data['results'])\n",
    "\n",
    "movie_names = []\n",
    "movie_casts = []\n",
    "\n",
    "# for each movie lets get the cast information\n",
    "for movie in top_100_movies:\n",
    "    movie_names.append(movie['title'])\n",
    "    \n",
    "    url = f\"https://api.themoviedb.org/3/movie/{movie['id']}/credits?api_key={api_key}\"\n",
    "    response = requests.get(url, headers=headers)\n",
    "    data = response.json()\n",
    "    \n",
    "    cast = [actor['name'] for actor in data['cast']]\n",
    "    movie_casts.append(cast)\n",
    "\n",
    "df = pd.DataFrame({'Movie': movie_names, 'Cast': movie_casts})"
   ]
  },
  {
   "cell_type": "code",
   "execution_count": 8,
   "metadata": {},
   "outputs": [
    {
     "data": {
      "text/html": [
       "<div>\n",
       "<style scoped>\n",
       "    .dataframe tbody tr th:only-of-type {\n",
       "        vertical-align: middle;\n",
       "    }\n",
       "\n",
       "    .dataframe tbody tr th {\n",
       "        vertical-align: top;\n",
       "    }\n",
       "\n",
       "    .dataframe thead th {\n",
       "        text-align: right;\n",
       "    }\n",
       "</style>\n",
       "<table border=\"1\" class=\"dataframe\">\n",
       "  <thead>\n",
       "    <tr style=\"text-align: right;\">\n",
       "      <th></th>\n",
       "      <th>Movie</th>\n",
       "      <th>Cast</th>\n",
       "    </tr>\n",
       "  </thead>\n",
       "  <tbody>\n",
       "    <tr>\n",
       "      <th>0</th>\n",
       "      <td>Godzilla x Kong: The New Empire</td>\n",
       "      <td>[Rebecca Hall, Kaylee Hottle, Brian Tyree Henr...</td>\n",
       "    </tr>\n",
       "    <tr>\n",
       "      <th>1</th>\n",
       "      <td>Kung Fu Panda 4</td>\n",
       "      <td>[Jack Black, Awkwafina, Bryan Cranston, Viola ...</td>\n",
       "    </tr>\n",
       "    <tr>\n",
       "      <th>2</th>\n",
       "      <td>Road House</td>\n",
       "      <td>[Jake Gyllenhaal, Daniela Melchior, Conor McGr...</td>\n",
       "    </tr>\n",
       "    <tr>\n",
       "      <th>3</th>\n",
       "      <td>Madame Web</td>\n",
       "      <td>[Dakota Johnson, Sydney Sweeney, Isabela Merce...</td>\n",
       "    </tr>\n",
       "    <tr>\n",
       "      <th>4</th>\n",
       "      <td>Creation of the Gods I: Kingdom of Storms</td>\n",
       "      <td>[Kris Phillips, Li Xuejian, Huang Bo, Yu Shi, ...</td>\n",
       "    </tr>\n",
       "    <tr>\n",
       "      <th>...</th>\n",
       "      <td>...</td>\n",
       "      <td>...</td>\n",
       "    </tr>\n",
       "    <tr>\n",
       "      <th>95</th>\n",
       "      <td>Spaceman</td>\n",
       "      <td>[Adam Sandler, Paul Dano, Carey Mulligan, Kuna...</td>\n",
       "    </tr>\n",
       "    <tr>\n",
       "      <th>96</th>\n",
       "      <td>Meg 2: The Trench</td>\n",
       "      <td>[Jason Statham, Wu Jing, Shuya Sophia Cai, Pag...</td>\n",
       "    </tr>\n",
       "    <tr>\n",
       "      <th>97</th>\n",
       "      <td>Ride On</td>\n",
       "      <td>[Jackie Chan, Liu Haocun, Kevin Guo, Wu Jing, ...</td>\n",
       "    </tr>\n",
       "    <tr>\n",
       "      <th>98</th>\n",
       "      <td>The Zone of Interest</td>\n",
       "      <td>[Christian Friedel, Sandra Hüller, Johann Kart...</td>\n",
       "    </tr>\n",
       "    <tr>\n",
       "      <th>99</th>\n",
       "      <td>Ghost Project</td>\n",
       "      <td>[Juan Cruz Rolla, Laura Casale, Zhongbo Li Zha...</td>\n",
       "    </tr>\n",
       "  </tbody>\n",
       "</table>\n",
       "<p>100 rows × 2 columns</p>\n",
       "</div>"
      ],
      "text/plain": [
       "                                        Movie  \\\n",
       "0             Godzilla x Kong: The New Empire   \n",
       "1                             Kung Fu Panda 4   \n",
       "2                                  Road House   \n",
       "3                                  Madame Web   \n",
       "4   Creation of the Gods I: Kingdom of Storms   \n",
       "..                                        ...   \n",
       "95                                   Spaceman   \n",
       "96                          Meg 2: The Trench   \n",
       "97                                    Ride On   \n",
       "98                       The Zone of Interest   \n",
       "99                              Ghost Project   \n",
       "\n",
       "                                                 Cast  \n",
       "0   [Rebecca Hall, Kaylee Hottle, Brian Tyree Henr...  \n",
       "1   [Jack Black, Awkwafina, Bryan Cranston, Viola ...  \n",
       "2   [Jake Gyllenhaal, Daniela Melchior, Conor McGr...  \n",
       "3   [Dakota Johnson, Sydney Sweeney, Isabela Merce...  \n",
       "4   [Kris Phillips, Li Xuejian, Huang Bo, Yu Shi, ...  \n",
       "..                                                ...  \n",
       "95  [Adam Sandler, Paul Dano, Carey Mulligan, Kuna...  \n",
       "96  [Jason Statham, Wu Jing, Shuya Sophia Cai, Pag...  \n",
       "97  [Jackie Chan, Liu Haocun, Kevin Guo, Wu Jing, ...  \n",
       "98  [Christian Friedel, Sandra Hüller, Johann Kart...  \n",
       "99  [Juan Cruz Rolla, Laura Casale, Zhongbo Li Zha...  \n",
       "\n",
       "[100 rows x 2 columns]"
      ]
     },
     "execution_count": 8,
     "metadata": {},
     "output_type": "execute_result"
    }
   ],
   "source": [
    "df"
   ]
  },
  {
   "cell_type": "code",
   "execution_count": null,
   "metadata": {},
   "outputs": [],
   "source": []
  },
  {
   "cell_type": "code",
   "execution_count": null,
   "metadata": {},
   "outputs": [],
   "source": []
  }
 ],
 "metadata": {
  "kernelspec": {
   "display_name": "comsocsci2024",
   "language": "python",
   "name": "python3"
  },
  "language_info": {
   "codemirror_mode": {
    "name": "ipython",
    "version": 3
   },
   "file_extension": ".py",
   "mimetype": "text/x-python",
   "name": "python",
   "nbconvert_exporter": "python",
   "pygments_lexer": "ipython3",
   "version": "3.10.13"
  }
 },
 "nbformat": 4,
 "nbformat_minor": 2
}
