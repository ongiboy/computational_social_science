{
 "cells": [
  {
   "cell_type": "code",
   "execution_count": 4,
   "metadata": {},
   "outputs": [
    {
     "name": "stdout",
     "output_type": "stream",
     "text": [
      "{\"adult\":false,\"backdrop_path\":\"/4qCqAdHcNKeAHcK8tJ8wNJZa9cx.jpg\",\"belongs_to_collection\":{\"id\":10,\"name\":\"Star Wars Collection\",\"poster_path\":\"/r8Ph5MYXL04Qzu4QBbq2KjqwtkQ.jpg\",\"backdrop_path\":\"/d8duYyyC9J5T825Hg7grmaabfxQ.jpg\"},\"budget\":11000000,\"genres\":[{\"id\":12,\"name\":\"Adventure\"},{\"id\":28,\"name\":\"Action\"},{\"id\":878,\"name\":\"Science Fiction\"}],\"homepage\":\"http://www.starwars.com/films/star-wars-episode-iv-a-new-hope\",\"id\":11,\"imdb_id\":\"tt0076759\",\"original_language\":\"en\",\"original_title\":\"Star Wars\",\"overview\":\"Princess Leia is captured and held hostage by the evil Imperial forces in their effort to take over the galactic Empire. Venturesome Luke Skywalker and dashing captain Han Solo team together with the loveable robot duo R2-D2 and C-3PO to rescue the beautiful princess and restore peace and justice in the Empire.\",\"popularity\":113.59,\"poster_path\":\"/6FfCtAuVAW8XJjZ7eWeLibRLWTw.jpg\",\"production_companies\":[{\"id\":1,\"logo_path\":\"/tlVSws0RvvtPBwViUyOFAO0vcQS.png\",\"name\":\"Lucasfilm Ltd.\",\"origin_country\":\"US\"},{\"id\":25,\"logo_path\":\"/qZCc1lty5FzX30aOCVRBLzaVmcp.png\",\"name\":\"20th Century Fox\",\"origin_country\":\"US\"}],\"production_countries\":[{\"iso_3166_1\":\"US\",\"name\":\"United States of America\"}],\"release_date\":\"1977-05-25\",\"revenue\":775398007,\"runtime\":121,\"spoken_languages\":[{\"english_name\":\"English\",\"iso_639_1\":\"en\",\"name\":\"English\"}],\"status\":\"Released\",\"tagline\":\"A long time ago in a galaxy far, far away...\",\"title\":\"Star Wars\",\"video\":false,\"vote_average\":8.204,\"vote_count\":19827}\n",
      "{\"adult\":false,\"backdrop_path\":\"/eCynaAOgYYiw5yN5lBwz3IxqvaW.jpg\",\"belongs_to_collection\":{\"id\":137697,\"name\":\"Finding Nemo Collection\",\"poster_path\":\"/xwggrEugjcJDuabIWvK2CpmK91z.jpg\",\"backdrop_path\":\"/2hC8HHRUvwRljYKIcQDMyMbLlxz.jpg\"},\"budget\":94000000,\"genres\":[{\"id\":16,\"name\":\"Animation\"},{\"id\":10751,\"name\":\"Family\"}],\"homepage\":\"http://movies.disney.com/finding-nemo\",\"id\":12,\"imdb_id\":\"tt0266543\",\"original_language\":\"en\",\"original_title\":\"Finding Nemo\",\"overview\":\"Nemo, an adventurous young clownfish, is unexpectedly taken from his Great Barrier Reef home to a dentist's office aquarium. It's up to his worrisome father Marlin and a friendly but forgetful fish Dory to bring Nemo home -- meeting vegetarian sharks, surfer dude turtles, hypnotic jellyfish, hungry seagulls, and more along the way.\",\"popularity\":93.229,\"poster_path\":\"/eHuGQ10FUzK1mdOY69wF5pGgEf5.jpg\",\"production_companies\":[{\"id\":3,\"logo_path\":\"/1TjvGVDMYsj6JBxOAkUHpPEwLf7.png\",\"name\":\"Pixar\",\"origin_country\":\"US\"}],\"production_countries\":[{\"iso_3166_1\":\"US\",\"name\":\"United States of America\"}],\"release_date\":\"2003-05-30\",\"revenue\":940335536,\"runtime\":100,\"spoken_languages\":[{\"english_name\":\"English\",\"iso_639_1\":\"en\",\"name\":\"English\"}],\"status\":\"Released\",\"tagline\":\"There are 3.7 trillion fish in the ocean. They're looking for one.\",\"title\":\"Finding Nemo\",\"video\":false,\"vote_average\":7.824,\"vote_count\":18605}\n",
      "{\"adult\":false,\"backdrop_path\":\"/qdIMHd4sEfJSckfVJfKQvisL02a.jpg\",\"belongs_to_collection\":null,\"budget\":55000000,\"genres\":[{\"id\":35,\"name\":\"Comedy\"},{\"id\":18,\"name\":\"Drama\"},{\"id\":10749,\"name\":\"Romance\"}],\"homepage\":\"https://www.paramountmovies.com/movies/forrest-gump\",\"id\":13,\"imdb_id\":\"tt0109830\",\"original_language\":\"en\",\"original_title\":\"Forrest Gump\",\"overview\":\"A man with a low IQ has accomplished great things in his life and been present during significant historic events—in each case, far exceeding what anyone imagined he could do. But despite all he has achieved, his one true love eludes him.\",\"popularity\":103.287,\"poster_path\":\"/arw2vcBveWOVZr6pxd9XTd1TdQa.jpg\",\"production_companies\":[{\"id\":4,\"logo_path\":\"/gz66EfNoYPqHTYI4q9UEN4CbHRc.png\",\"name\":\"Paramount\",\"origin_country\":\"US\"},{\"id\":21920,\"logo_path\":null,\"name\":\"The Steve Tisch Company\",\"origin_country\":\"\"},{\"id\":412,\"logo_path\":null,\"name\":\"Wendy Finerman Productions\",\"origin_country\":\"\"}],\"production_countries\":[{\"iso_3166_1\":\"US\",\"name\":\"United States of America\"}],\"release_date\":\"1994-06-23\",\"revenue\":677387716,\"runtime\":142,\"spoken_languages\":[{\"english_name\":\"English\",\"iso_639_1\":\"en\",\"name\":\"English\"}],\"status\":\"Released\",\"tagline\":\"The world will never be the same once you've seen it through the eyes of Forrest Gump.\",\"title\":\"Forrest Gump\",\"video\":false,\"vote_average\":8.5,\"vote_count\":26401}\n"
     ]
    }
   ],
   "source": [
    "import requests\n",
    "\n",
    "movie_ids = [11, 12, 13] \n",
    "api_key = \"f5813332cb558d374cbcb057ea2fc48b\"\n",
    "headers = {\"accept\": \"application/json\"}\n",
    "\n",
    "for movie_id in movie_ids:\n",
    "    url = f\"https://api.themoviedb.org/3/movie/{movie_id}?api_key={api_key}\"\n",
    "    response = requests.get(url, headers=headers)\n",
    "    print(response.text)"
   ]
  },
  {
   "cell_type": "code",
   "outputs": [],
   "source": [
    "def find_movie_id(movie_name):\n",
    "    \"\"\"Find the TMDb ID for a given movie name.\"\"\"\n",
    "    url = f\"https://api.themoviedb.org/3/search/movie?api_key=f5813332cb558d374cbcb057ea2fc48b&query={movie_name}\"\n",
    "    response = requests.get(url)\n",
    "    data = response.json()\n",
    "    # Assuming the first search result is the movie you're looking for\n",
    "    if data['results']:\n",
    "        return data['results'][0]['id']\n",
    "    else:\n",
    "        return None"
   ],
   "metadata": {
    "collapsed": false
   }
  },
  {
   "cell_type": "code",
   "outputs": [],
   "source": [
    "import requests\n",
    "import pandas as pd\n",
    "\n",
    "api_key = \"f5813332cb558d374cbcb057ea2fc48b\"\n",
    "headers = {\"accept\": \"application/json\"}"
   ],
   "metadata": {
    "collapsed": false
   }
  },
  {
   "cell_type": "code",
   "outputs": [],
   "source": [
    "# Get the top 100 movies \n",
    "top_100_movies = []\n",
    "for page in range(1, 6):\n",
    "    url = f\"https://api.themoviedb.org/3/discover/movie?api_key={api_key}&sort_by=popularity.desc&page={page}\"\n",
    "    response = requests.get(url, headers=headers)\n",
    "    data = response.json()\n",
    "    top_100_movies.extend(data['results'])\n",
    "\n",
    "movie_names = []\n",
    "movie_casts = []\n",
    "movie_ratings = []\n",
    "movie_popularities = []\n",
    "movie_genres = []\n",
    "movie_revenues = []\n",
    "movie_release_dates = []\n",
    "\n",
    "for movie in top_100_movies:\n",
    "    movie_names.append(movie['title'])\n",
    "    \n",
    "    url = f\"https://api.themoviedb.org/3/movie/{movie['id']}?api_key={api_key}\"\n",
    "    response = requests.get(url, headers=headers)\n",
    "    data = response.json()\n",
    "\n",
    "    movie_ratings.append(data['vote_average'])\n",
    "    movie_popularities.append(data['popularity'])\n",
    "    movie_genres.append([genre['name'] for genre in data['genres']])\n",
    "    movie_revenues.append(data['revenue'])\n",
    "    movie_release_dates.append(data['release_date'])\n",
    "\n",
    "    url = f\"https://api.themoviedb.org/3/movie/{movie['id']}/credits?api_key={api_key}\"\n",
    "    response = requests.get(url, headers=headers)\n",
    "    data = response.json()\n",
    "    \n",
    "    cast = [actor['name'] for actor in data['cast']]\n",
    "    movie_casts.append(cast)\n",
    "\n",
    "df = pd.DataFrame({\n",
    "    'Movie': movie_names,\n",
    "    'Cast': movie_casts,\n",
    "    'Rating': movie_ratings,\n",
    "    'Popularity': movie_popularities,\n",
    "    'Genres': movie_genres,\n",
    "    'Revenue': movie_revenues,\n",
    "    'Release Date': movie_release_dates\n",
    "})"
   ],
   "metadata": {
    "collapsed": false
   }
  },
  {
   "cell_type": "code",
   "outputs": [],
   "source": [
    "df"
   ],
   "metadata": {
    "collapsed": false
   }
  },
  {
   "cell_type": "code",
   "outputs": [],
   "source": [
    "import requests\n",
    "from bs4 import BeautifulSoup\n",
    "\n",
    "link = \"https://en.wikipedia.org/wiki/List_of_highest-grossing_films\"\n",
    "\n",
    "r = requests.get(link)\n",
    "\n",
    "soup = BeautifulSoup(r.content)"
   ],
   "metadata": {
    "collapsed": false
   }
  },
  {
   "cell_type": "code",
   "outputs": [],
   "source": [
    "# In the wikipedia page there are multiple tables, the first one is selected (highest-grossing films)\n",
    "table = soup.find_all(\"table\", {\"class\": \"wikitable\"})[0]\n",
    "rows = table.find_all(\"tr\")\n",
    "\n",
    "movies = []\n",
    "\n",
    "for row in rows:\n",
    "    # Print all text in italic\n",
    "    if row.find(\"i\"):\n",
    "        movies.append(row.find(\"i\").text)\n",
    "\n",
    "movies"
   ],
   "metadata": {
    "collapsed": false
   }
  }
 ],
 "metadata": {
  "kernelspec": {
   "display_name": "comsocsci2024",
   "language": "python",
   "name": "python3"
  },
  "language_info": {
   "codemirror_mode": {
    "name": "ipython",
    "version": 3
   },
   "file_extension": ".py",
   "mimetype": "text/x-python",
   "name": "python",
   "nbconvert_exporter": "python",
   "pygments_lexer": "ipython3",
   "version": "3.10.13"
  }
 },
 "nbformat": 4,
 "nbformat_minor": 2
}
