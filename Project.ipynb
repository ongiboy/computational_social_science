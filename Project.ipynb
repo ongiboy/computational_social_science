{
 "cells": [
  {
   "cell_type": "code",
   "execution_count": 89,
   "metadata": {},
   "outputs": [],
   "source": [
    "import requests\n",
    "from bs4 import BeautifulSoup\n",
    "import pandas as pd\n",
    "import concurrent.futures\n",
    "import requests\n",
    "\n",
    "API_KEY = \"f5813332cb558d374cbcb057ea2fc48b\""
   ]
  },
  {
   "cell_type": "code",
   "execution_count": null,
   "metadata": {
    "collapsed": false
   },
   "outputs": [],
   "source": [
    "def find_movie_id(movie_name):\n",
    "    \"\"\"Find the TMDb ID for a given movie name.\"\"\"\n",
    "    url = f\"https://api.themoviedb.org/3/search/movie?api_key={API_KEY}&query={movie_name}\"\n",
    "    response = requests.get(url)\n",
    "    data = response.json()\n",
    "    # Assuming the first search result is the movie you're looking for\n",
    "    if data['results']:\n",
    "        return data['results'][0]['id']\n",
    "    else:\n",
    "        return None\n",
    "\n",
    "def movie_titles_from_actor_ID(actor_id):\n",
    "    url = f\"https://api.themoviedb.org/3/person/{actor_id}/movie_credits?api_key={API_KEY}\"\n",
    "    response = requests.get(url)\n",
    "    data = response.json()\n",
    "    # Return the whole movie dictionary, not just the title\n",
    "    return [movie['original_title'] for movie in data['cast'] if movie['release_date'][:4] >= '2010']\n"
   ]
  },
  {
   "cell_type": "code",
   "execution_count": 84,
   "metadata": {},
   "outputs": [],
   "source": [
    "api_key = \"f5813332cb558d374cbcb057ea2fc48b\"\n",
    "\n",
    "all_people_names = []\n",
    "all_people_ids = []\n",
    "all_people_genders = []\n",
    "all_people_birth = []\n",
    "for page in range(1, 5):\n",
    "    url_popular = f\"https://api.themoviedb.org/3/person/popular?api_key={api_key}&page={page}\"\n",
    "    response = requests.get(url_popular)\n",
    "    data = response.json()\n",
    "    for person in data['results']:\n",
    "        all_people_names.append(person['name'])\n",
    "        all_people_ids.append(person['id'])\n",
    "        all_people_genders.append(person['gender'])\n",
    "\n",
    "        url_actor = f\"https://api.themoviedb.org/3/person/{person['id']}?api_key={api_key}\"\n",
    "        data_actor = requests.get(url_actor).json()\n",
    "        if data_actor['place_of_birth'] is not None:\n",
    "            all_people_birth.append(data_actor['place_of_birth'].split(\",\")[-1])\n",
    "        else:\n",
    "            all_people_birth.append(None)\n"
   ]
  },
  {
   "cell_type": "code",
   "execution_count": 86,
   "metadata": {},
   "outputs": [],
   "source": [
    "# Create a DataFrame with 'actors' column\n",
    "df_actors = pd.DataFrame(all_people_names, columns=['actors'])\n",
    "\n",
    "# Add 'ids' column to the DataFrame\n",
    "df_actors['actor_ids'] = all_people_ids\n",
    "df_actors['gender'] = all_people_genders\n",
    "df_actors['place_of_birth'] = all_people_birth\n",
    "\n",
    "\n",
    "# Fetch movies for each actor and add them to 'movies' column\n",
    "with concurrent.futures.ThreadPoolExecutor() as executor:\n",
    "    df_actors['movies'] = list(executor.map(movie_titles_from_actor_ID, df_actors['actor_ids']))\n",
    "    "
   ]
  },
  {
   "cell_type": "code",
   "execution_count": null,
   "metadata": {},
   "outputs": [],
   "source": [
    "df_actors"
   ]
  },
  {
   "cell_type": "code",
   "execution_count": null,
   "metadata": {
    "collapsed": false
   },
   "outputs": [],
   "source": [
    "# Add a column with the movie_IDs by applying the find_movie_id function to the Movie column\n",
    "# Get unique movies\n",
    "unique_movies = df_actors[\"movies\"].copy().explode().unique()\n",
    "\n",
    "# Create a new DataFrame with the unique movies\n",
    "movies_df = pd.DataFrame(unique_movies, columns=['movies'])\n",
    "print(len(movies_df))\n",
    "movies_df =  movies_df.head(10)\n",
    "\n",
    "movies_df[\"movie_ID\"] = movies_df[\"movies\"].apply(find_movie_id)\n",
    "\n",
    "movie_ratings = []\n",
    "movie_popularities = []\n",
    "movie_genres = []\n",
    "movie_revenues = []\n",
    "movie_release_dates = []\n",
    "movie_abstracts = []\n",
    "\n",
    "# Retrieve additional information for each movie\n",
    "headers = {\"accept\": \"application/json\"}\n",
    "\n",
    "for id in movies_df[\"movie_ID\"]:    \n",
    "    url = f\"https://api.themoviedb.org/3/movie/{id}?api_key={API_KEY}\"\n",
    "    response = requests.get(url, headers=headers)\n",
    "    data = response.json()\n",
    "\n",
    "    movie_ratings.append(data['vote_average'])\n",
    "    movie_popularities.append(data['popularity'])\n",
    "    movie_genres.append([genre['name'] for genre in data['genres']])\n",
    "    movie_revenues.append(data['revenue'])\n",
    "    movie_release_dates.append(data['release_date'])\n",
    "    movie_abstracts.append(data['overview'])\n",
    "\n",
    "    url = f\"https://api.themoviedb.org/3/movie/{id}/credits?api_key={API_KEY}\"\n",
    "    response = requests.get(url, headers=headers)\n",
    "    data = response.json()\n",
    "\n",
    "# Add the additional information to the dataframe\n",
    "movies_df[\"rating\"] = movie_ratings\n",
    "movies_df[\"popularity\"] = movie_popularities\n",
    "movies_df[\"genres\"] = movie_genres\n",
    "movies_df[\"revenue\"] = movie_revenues\n",
    "movies_df[\"release_date\"] = movie_release_dates\n",
    "movies_df[\"abstract\"] = movie_abstracts"
   ]
  },
  {
   "cell_type": "code",
   "execution_count": null,
   "metadata": {
    "collapsed": false
   },
   "outputs": [],
   "source": [
    "movies_df"
   ]
  },
  {
   "cell_type": "code",
   "execution_count": 92,
   "metadata": {},
   "outputs": [],
   "source": [
    "import itertools\n",
    "import networkx as nx\n",
    "from collections import defaultdict\n",
    "\n",
    "def fetch_page(page):\n",
    "    url = f\"https://api.themoviedb.org/3/person/popular?api_key={api_key}&page={page}\"\n",
    "    response = requests.get(url, headers=headers)\n",
    "    data = response.json()\n",
    "    return [(person['name'], person['id']) for person in data['results']]"
   ]
  },
  {
   "cell_type": "code",
   "execution_count": 93,
   "metadata": {},
   "outputs": [],
   "source": [
    "with concurrent.futures.ThreadPoolExecutor() as executor:\n",
    "    pages = list(range(1, 100))\n",
    "    people = list(executor.map(fetch_page, pages))\n",
    "\n",
    "all_people_names, all_people_ids = zip(*itertools.chain(*people))"
   ]
  },
  {
   "cell_type": "code",
   "execution_count": 94,
   "metadata": {},
   "outputs": [],
   "source": [
    "# Create a DataFrame with 'actors' column\n",
    "df_actors = pd.DataFrame(all_people_names, columns=['actors'])\n",
    "\n",
    "# Add 'ids' column to the DataFrame\n",
    "df_actors['actor_ids'] = all_people_ids\n",
    "\n",
    "# Fetch movies for each actor and add them to 'movies' column\n",
    "with concurrent.futures.ThreadPoolExecutor() as executor:\n",
    "    df_actors['movies'] = list(executor.map(movies_from_ID, df_actors['actor_ids']))"
   ]
  },
  {
   "cell_type": "code",
   "execution_count": 95,
   "metadata": {},
   "outputs": [],
   "source": [
    "# Step 1: Prepare the Data\n",
    "movie_to_actors = defaultdict(list)\n",
    "\n",
    "for _, row in df_actors.iterrows():\n",
    "    actor = row['actors']\n",
    "    movies = row['movies']\n",
    "    for movie in movies:\n",
    "        movie_to_actors[movie].append(actor)\n",
    "\n",
    "edges = []\n",
    "for actors in movie_to_actors.values():\n",
    "    edges.extend(itertools.combinations(actors, 2))\n",
    "\n",
    "# Step 2: Create the Graph\n",
    "G = nx.Graph()\n",
    "for edge in edges:\n",
    "    G.add_edge(*edge)\n",
    "\n",
    "# Step 3: Analyze the Graph\n",
    "degrees = dict(G.degree())\n",
    "most_connected_actors = sorted(degrees.items(), key=lambda x: x[1], reverse=True)"
   ]
  },
  {
   "cell_type": "code",
   "execution_count": 97,
   "metadata": {},
   "outputs": [
    {
     "name": "stdout",
     "output_type": "stream",
     "text": [
      "Graph with 1617 nodes and 41022 edges\n"
     ]
    }
   ],
   "source": [
    "print(G)"
   ]
  }
 ],
 "metadata": {
  "kernelspec": {
   "display_name": "comsocsci2024",
   "language": "python",
   "name": "python3"
  },
  "language_info": {
   "codemirror_mode": {
    "name": "ipython",
    "version": 3
   },
   "file_extension": ".py",
   "mimetype": "text/x-python",
   "name": "python",
   "nbconvert_exporter": "python",
   "pygments_lexer": "ipython3",
   "version": "3.10.13"
  }
 },
 "nbformat": 4,
 "nbformat_minor": 2
}
