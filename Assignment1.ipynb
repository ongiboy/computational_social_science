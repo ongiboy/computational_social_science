{
 "cells": [
  {
   "cell_type": "markdown",
   "metadata": {},
   "source": [
    "Link to git repository: https://github.com/ongiboy/Cognitive-Social-Science\n",
    "\n",
    "Group members:\n",
    "* Christian Ong Hansen (s204109)\n",
    "* Kavus Latifi Yaghin (s214601)\n",
    "* Daniel Damkjær Ries (s214641)\n",
    "\n",
    "Group member's contribution:\n",
    "* Every task was made in collaboration by all members."
   ]
  },
  {
   "cell_type": "markdown",
   "metadata": {},
   "source": [
    "# Part 1: Web-scraping"
   ]
  },
  {
   "cell_type": "code",
   "execution_count": 19,
   "metadata": {},
   "outputs": [],
   "source": [
    "from bs4 import BeautifulSoup\n",
    "import requests\n",
    "import pandas as pd\n",
    "import re\n",
    "\n",
    "# Setup the URL\n",
    "LINK = \"https://ic2s2-2023.org/program\"\n",
    "r = requests.get(LINK)\n",
    "soup = BeautifulSoup(r.content)"
   ]
  },
  {
   "cell_type": "markdown",
   "metadata": {},
   "source": [
    "Extracting keynote speakers"
   ]
  },
  {
   "cell_type": "code",
   "execution_count": 2,
   "metadata": {},
   "outputs": [
    {
     "name": "stdout",
     "output_type": "stream",
     "text": [
      "['Jevin West', 'Linda Steg', 'Sharad Goel', 'Molly Crockett', 'Lisa Anne Hendriks', 'Stefan Gössling', 'Joanna Bryson', 'Tim Althoff', 'Lauren Brent', 'Esteban Moro']\n",
      "Number of keynotes:  10\n"
     ]
    }
   ],
   "source": [
    "table = soup.find(\"table\",{\"class\":\"tutorials\"})\n",
    "table_rows = table.find_all(\"tr\")\n",
    "\n",
    "# For each row find the elements that include \"Keynote\" and save to list\n",
    "keynotes = []\n",
    "for tr in table_rows:\n",
    "    td = tr.find_all(\"td\")\n",
    "    row = [i.text for i in td]\n",
    "    if row:\n",
    "        if \"Keynote\" in row[1]:\n",
    "            keynotes.append(row[1])\n",
    "\n",
    "# Remove \"Keynote - \" from each element in list\n",
    "keynotes = [re.sub(\"Keynote - \", \"\", i) for i in keynotes]\n",
    "\n",
    "print(keynotes)\n",
    "print(\"Number of keynotes: \", len(list(set(keynotes))))"
   ]
  },
  {
   "cell_type": "markdown",
   "metadata": {},
   "source": [
    "Extracting chairs people"
   ]
  },
  {
   "cell_type": "code",
   "execution_count": 3,
   "metadata": {},
   "outputs": [
    {
     "name": "stdout",
     "output_type": "stream",
     "text": [
      "['Claudia Wagner', 'Taha Yasseri', 'David Garcia', 'Milena Tsvetkova', 'Elisa Omodei', 'Sandra Gonzalez-Bailón', 'Leo Ferres', 'Clara Vandeweerdt', 'Andreia Sofia Teixeira', 'Edward Lee', 'Luca Rossi', 'Jonas L Juul', 'Michele Coscia', 'Yelena Mejova', 'Michael Szell', 'Lisette Espin Noboa', 'Matteo Magnani', 'Onur Varol', 'Roberta Rocca', 'Talal Rahwan', 'Frauke Kreuter', 'Riccardo Di Clemente', 'Martin Ardvisson', 'Taha Yasseri', 'Michele Tizzoni', 'Daniele Quercia', 'Kokil Jaidka', 'Ingmar Weber', 'Claudia Acciai', 'Sandor Juhasz', 'Anna Sapienza', 'Yunkyu Sohn', 'Mathieu Génois', 'Alexander Gates', 'Vedran Sekara', 'Piotr Sapiezynski', 'Daniela Paolotti', 'Pantelis Pipergias Analytis', 'Michele Starnini', 'Kristina Gligoric', 'Rossano Schifanella', 'Petter Holme', 'Kyriaki Kalimeri', 'Bruno Lepri', 'Ivan Smirnov', 'Yevgeniy Golovchenko', 'Mikko Kivelä', 'Clemens Stachl', 'Maximilian Schich', 'Kelton Minor']\n",
      "Number of chairs:  49\n"
     ]
    }
   ],
   "source": [
    "chairs = []\n",
    "# Find the sections with names\n",
    "sections = soup.find_all(\"h2\")\n",
    "for section in sections:\n",
    "\n",
    "    # Find names within section\n",
    "    bullets = section.find_all(\"i\")\n",
    "    for nameline in bullets:\n",
    "\n",
    "        # Add only names after \"Chairs\" to list (Chair: Taha Yasseri)\n",
    "        if \"Chair\" in nameline.text:\n",
    "            chairs.append(nameline.text[7:])\n",
    "        \n",
    "# unique elements in names\n",
    "print(chairs)\n",
    "print(\"Number of chairs: \", len(list(set(chairs))))"
   ]
  },
  {
   "cell_type": "markdown",
   "metadata": {},
   "source": [
    "Extracting speakers"
   ]
  },
  {
   "cell_type": "code",
   "execution_count": 4,
   "metadata": {},
   "outputs": [
    {
     "name": "stdout",
     "output_type": "stream",
     "text": [
      "['Jonas L Juul', 'Jon Kleinberg', 'Chloe Ahn', 'Xinyi Wang', 'Giuseppe Russo', 'luca verginer', 'Manoel Horta Ribeiro', 'Giona Casiraghi', 'Almog Simchon', 'Adam Sutton', 'Matthew Edwards', 'Stephan Lewandowsky', 'Arianna Pera', 'Manuel Vimercati', 'Matteo Palmonari', 'Mohammed Alsobay', 'Abdullah Almaatouq', 'David G. Rand', 'Duncan J. Watts', 'Sara Venturini', 'Satyaki Sikdar', 'Francesco Rinaldi', 'Francesco Tudisco', 'Santo Fortunato', 'Isabella Loaiza', 'Takahiro Yabe', 'Alex Pentland', 'Silvia De Sojo Caso', 'Mia Ann Jørgensen', 'Sune Lehmann', 'Laura Alessandretti', 'Emil Bakkensen Johansen', 'Mathias Wullum Nielsen', 'Rubén Rodríguez Casañ', 'Antonio Ariño Villarroya', 'Sunny Rai', 'Ashley Francisco', 'Salvatore Giorgi', 'Brenda Curtis', 'Lyle Ungar', 'Sharath Chandra Guntuku', 'Allison Koenecke', 'Eric Giannella', 'Robb Willer', 'Sharad Goel', 'Ziv Epstein', 'Hause Lin', 'Levin Brinkmann', 'Bramantyo Supriyatno', 'Iyad Rahwan', 'Sandro Ferreira Sousa', 'Vincenzo Nicosia', 'Marilena Hohmann', 'Michele Coscia', 'Tiancheng Hu', 'Yara Kyrychenko', 'Sander van der Linden', 'Jon Roozenbeek', 'Nikolaos Nakis', 'Abdulkadir Celikkanat', 'Louis Boucherie', 'Morten Mørup', 'Corrado Monti', \"Jacopo D'Ignazi\", 'Michele Starnini', 'Gianmarco De Francisci Morales', 'Homa Hosseinmardi', 'Sam Wolken', 'David Rothschild', 'Duncan Watts', 'Li Zhang', 'Isabelle Lorge', 'Janet B. Pierrehumbert', 'Xiaowen Dong', 'Melanie Oyarzun', 'Carlos Rodriguez-Sickert', 'Cristian E Candia', 'Takahiro Yabe', 'Bernardo Garcia Bulle Bueno', 'Morgan Ryan Frank', 'Alex Pentland', 'Esteban Moro', 'Dingeman Jan Van der Laan', 'Edwin De Jonge', 'Marjolijn Das', 'Manoel Horta Ribeiro', 'Veniamin Veselovsky', 'Robert West', 'Mark E Whiting', 'Duncan J Watts', 'Marc Sadurní Parera', 'Josep Perelló', 'Miquel Montero', 'Jamell Dacon', 'Jiliang Tang', 'Minsu Park', 'Chao Yu', 'Michael Macy', 'Kat Albrecht', 'Nicola Fanton', 'Agnieszka Falenska', 'Michael Roth', 'Zeyneb Nahide Kaya', 'Alexandra Segerberg', 'Matteo Magnani', 'Damian Trilling', 'Roeland Dubèl', 'Rupert Kiddle', 'Anne C. Kroon', 'Zilin Lin', 'Mónika Simon', 'Susan Vermeer', 'Kasper Welbers', 'Mark Boukes', 'Sanjay Kairam', 'Sukankana Chakraborty', 'Leonardo Castro-Gonzalez', 'Helen Margetts', 'Jonathan Bright', 'Helena Sophia Rauxloh', 'Lisa Merten', 'Heidi Schulze', 'Judith Moeller', 'Isabel Lerch', 'Dylan Thurgood', 'Sebastian Stier', 'Ardon Z. Shorr', 'Mark E Whiting', 'Dafna Yavetz', 'Simon Martin Breum', 'Bojan Kostic', 'Michael Szell', 'Zhuangyuan Fan', 'Becky P.Y. Loo', 'Ting Lian', 'Feiyang Zhang', 'Massimiliano Luca', 'Bruno Lepri', 'Antonio Bucchiarone', 'Annapaola Marconi', 'Simone Centellegher', 'Silvia De Sojo Caso', 'Sune Lehmann', 'Laura Maria Alessandretti', 'Surendra Hazarie', 'Hugo Barbosa', 'Adam Frank', 'Ronaldo Menezes', 'Gourab Ghoshal', 'Henrik Wolf', 'Ane Rahbek Vierø', 'Michael Szell', 'Nicole Nisbett', 'Viktoria Spaiser', 'Kelton R Minor', 'Esteban Moro', 'Nick Obradovich', 'Hannah-Marie Büttner', 'Hendrik Meyer', 'Patrick Zerrer', 'Max Falkenberg', 'Andrea Baronchelli', 'Giorgio Tripodi', 'Francesco Lamperti', 'Andrea mina', 'Fabrizio Lillo', 'Roberto Mavilia', 'Francesca Chiaromonte', 'Kelton R Minor', 'Kristoffer Lind Glavind', 'Aaron J. Schwartz', 'Christopher Danforth', 'Sune Lehmann', 'Andreas Bjerre-Nielsen', 'Michele Tizzani', 'Daniela Paolotti', 'Pietro Coletti', 'Alessandro De Gaetano', 'Christopher I Jarvis', 'Amy Gimma', 'Kerry Wong', 'John W Edmunds', 'Philippe Beutels', 'Niel Hens', 'Julia Koltai', 'Adam Stefkovics', 'Anna Sara Ligeti', 'Marcin Waniek', 'Petter Holme', 'Katayoun Farrahi', 'Remi Emonet', 'Manuel Cebrian', 'Talal Rahwan', 'Lorenzo Amir Nemati Fard', 'Michele Starnini', 'Michele Tizzoni', 'Alessandro De Gaetano', 'Daniela Paolotti', 'Daniela Perrotta', 'Nicola Perra', 'Nicolò Gozzi', 'Paolo Bajardi', 'Ryota Kobayashi', 'Yuka Takedomi', 'Yuri Nakayama', 'Towa Suda', 'Takeaki Uno', 'Takako Hashimoto', 'Masashi Toyoda', 'Naoki Yoshinaga', 'Masaru Kitsuregawa', 'Luis E C Rocha', 'Katie Spoon', 'Isabelle Langrock', 'Jack LaViolette', 'Marcelo Silva', 'Kristina Gligoric', 'Tiziano Piccardi', 'Jake M. Hofman', 'Robert West', 'Renzhe Yu', 'Sky CH-Wang', 'Zhen Xu', 'Zhuojian Wei', 'Nalette Brodnax', 'Keyu Zhu', 'Nabeel Gillani', 'Pascal Van Hentenryck', 'Melanie Oyarzun', 'Mariana Macedo', 'Cristian E Candia', 'Cesar A Hidalgo', 'Juniper L Lovato', 'Laurent Hebert-Dufresne', 'Jonathan St-Onge', 'Randall Harp', 'Gabriela Salazar Lopez', 'Sean P. Rogers', 'Ijaz Ul Haq', 'Jeremiah Onaolapo', 'Guangnan Zhu', 'Kateryna Kasianenko', 'Shima Saniei', 'Uttama Barua', 'George Gyamfi', 'Jana Lasser', 'Segun Aroyehun', 'Fabio Carella', 'Almog Simchon', 'David Garcia', 'Stephan Lewandowsky', 'Ruth Elisabeth Appel', 'Jennifer Pan', 'Margaret Roberts', 'Bao Tran Truong', 'Xiaodan Lou', 'Alessandro Flammini', 'Filippo Menczer', 'Jason C Coronel', 'Matthew Donald Sweitzer', 'Shannon Poulsen', 'Yuanmo He', 'Milena Tsvetkova', 'Kathyrn Fair', 'Omar Guerrero', 'Gerardo Iñiguez', 'Sara Heydari', 'János Kertész', 'Jari Saramäki', 'Johanna Einsiedler', 'Nikolaj Arpe Harmon', 'David Dreyer Lassen', 'Jolien Cremers', 'Andreas Bjerre-Nielsen', 'Alexander J Gates', 'Alice Grishchenko', 'Ana Macanovic', 'Sam Zhang', 'Veniamin Veselovsky', 'Ashton Anderson', 'Ali Faqeeh', 'Letizia Iannucci', 'Ted Hsuan Yun Chen', 'Mikko Kivelä', 'Ali Salloum', 'Ted Hsuan Yun Chen', 'Mikko Kivelä', 'Christian Staal Bruun Overgaard', 'Josephine Lukito', 'Kaiya Soorholtz', 'Fatima Alqabandi', 'Eckehard Olbrich', 'Sven Banisch', 'Armin Pournaki', 'Felix Gaisbauer', 'Eckehard Olbrich', 'Bradley Spahn', 'Sahil Verma', 'Armin Pournaki', 'Pedro Ramaciotti Morales', 'Yuta Tomokiyo', 'Kimitaka Asatani', 'Kunihiro Miyazaki', 'Fujio Toriumi', 'Ichiro Sakata', 'Matija Franklin', 'Trisevgeni Papakonstantinou', 'Tianshu Chen', 'Carlos Fernandez-Basso', 'David Lagnado', 'Sahar Baribi-Bartov', 'Briony Swire-Thompson', 'Nir Grinberg', 'Ohhyun Kwon', 'Damin Lee', 'Inho Hong', 'Jaehyuk Park', 'Hyejin Youn', 'Woo-Sung Jung', 'Federico Delussu', 'Michele Tizzoni', 'Laetitia Gauvin', 'Simone Centellegher', 'Lorenzo Lucchini', 'Marco Tonin', 'Bruno Lepri', 'Marco De Nadai', 'David Mingfei Liu', 'Damin Lee', 'Ohhyun Kwon', 'Inho Hong', 'Jaehyuk Park', 'Woo-Sung Jung', 'Hyejin Youn', 'Nandini Iyer', 'Ronaldo Menezes', 'Hugo Barbosa', \"Lorenzo Dall'Amico\", 'Onicio Leal', 'Lonjezo Dzekedzeke', 'Beverly Laher', 'Guilherme Lichand', 'Ciro Cattuto', 'Anna Sapienza', 'Alessandra Urbinati', 'Salvatore Vilella', 'Roland Toth', 'Christian Strippel', 'Anna Sapienza', 'Marita Lítlá', 'Sune Lehmann', 'Laura Maria Alessandretti', 'Kristina Gligoric', 'Irena Đorđević', 'Robert West', 'David Joachim Grüning', 'Frederik Riedel', 'Philipp Lorenz-Spreen', 'Chia-Jung Tsai', 'Robert Gordon Rinderknecht', 'Emilio Zagheni', 'Ana Macanovic', 'Wojtek Przepiorka', 'Vincent Buskens', 'Lisa Merten', 'Maren Schuster', 'Felix Victor Münch', 'Aymeric Luneau', 'Jean-Philippe Cointet', 'Yuan Zhang', 'Pu Yan', 'Ralph Schroeder', 'Akira Matsui', 'Kunihiro Miyazaki', 'Taichi Murayama', 'Tiziano Piccardi', 'Martin Gerlach', 'Robert West', 'Akira Matsui', 'Emilio Ferrara', 'Patrick Gildersleve', 'Akhil Arora', 'Martin Gerlach', 'Robert West', 'Ivan Smirnov', 'Camelia Oprea', 'Markus Strohmaier', 'Veniamin Veselovsky', 'Akhil Arora', 'Tiziano Piccardi', 'Ashton Anderson', 'Robert West', 'Shreya Havaldar', 'Salvatore Giorgi', 'Thomas Talhelm', 'Sharath Chandra Guntuku', 'Lyle Ungar', 'James Calum Young', 'Hywel T.P. Williams', 'Rudy Arthur', 'Camille Landesvatter', 'Paul C. Bauer', 'Hang Jiang', 'Xiajie Zhang', 'Xubo Cao', 'Jad Kabbara', 'Lucio La Cava', 'Andrea Tagarelli', 'Luca Maria Aiello', 'Anubhab Das', 'Sanja Scepanovic', 'Luca Maria Aiello', 'Ozgur Can Seckin', 'Onur Varol', 'Sara Venturini', 'Satyaki Sikdar', 'Marie-Laure Charpignon', 'Sagar Kumar', 'Francesco Rinaldi', 'Francesco Tudisco', 'Santo Fortunato', 'Maimuna S Majumder', 'Sandro Ferreira Sousa', 'Roberta Sinatra', 'Michael Szell', 'Yanmeng Xing', 'Minsu Park', 'Suman Maity', 'Stefan Wuchty', 'Dashun Wang', 'Jan Bachmann', 'Lisette Espin-Noboa', 'Gerardo Iñiguez', 'Fariba Karimi', 'Claudia Acciai', 'Benjamin C Holding', 'Mathias Wullum Nielsen', 'Jesper Wiborg Schneider', 'Corrado Monti', 'Luca Maria Aiello', 'Gianmarco De Francisci Morales', 'Francesco Bonchi', 'Subhayan Mukerjee', 'Tian Yang', 'Yilang Peng', 'Mengjie Cheng', 'Shunyuan Zhang', 'Makoto Mizuno', 'Hiroki Takikawa', 'Tina Law', 'Em Bello-Pardo', 'Natalie McDaniel Gallagher', 'Zoltan Kmetty', 'Adam Stefkovics', 'Julia Szamely', 'Dongning Deng', 'Kellner Aniko', 'Edit Paulo', 'Elisa Omodei', 'Julia Koltai', 'James Michelson', 'Miruna Cotet', 'Wenjia Zhao', 'Ian Krajbich', 'Seongwoon Kim', 'Jaehyuk Park', 'Sonja Walter', 'Edward Lee', 'Alan Paul Kwan', 'Anjali Bhatt', 'Rudolf Hanel', 'Frank Neffke', 'Hirokazu Shirado', 'Shunichi Kasahara', 'Nicholas A Christakis', 'Luis M Rocha', 'Rion Brattig Correia', 'Alain Barrat', 'Sebastiano Bontorin', 'Bruno Lepri', 'Riccardo Gallotti', 'Luca Pappalardo', 'Manlio De Domenico', 'Massimiliano Luca', 'Qingtao Cao', 'Babak Heydari', 'Giovanni Mauro', 'Massimiliano Luca', 'Antonio Longa', 'Bruno Lepri', 'Luca Pappalardo', 'Maddalena Conte', 'Nail Furkan Bashan', 'Qi Wang', 'Kishore Vasan', 'Xinlan Emily Hu', 'Linnea Gandhi', 'Mark E Whiting', 'Abdullah Almaatouq', 'Duncan J. Watts', 'Lillio Mok', 'Lu Sun', 'Shilad Sen', 'Bahareh Sarrafzadeh', 'James P Houghton', 'Duncan J Watts', 'Yuzuki Takahashi', 'Hayato Misumi', 'Mikiko Shimaoka', 'Tomomi Kito', 'Tzu-Chi Yen', 'Kate L. Wootton', 'Aaron Clauset', 'Daniel Larremore', 'Ezequiel Lopez Lopez', 'Stefan M. Herzog', 'Sanja Scepanovic', 'Luca Maria Aiello', 'Ke Zhou', 'Daniele Quercia', 'Wanqi Hu', 'Xinran Wang', 'Yunhao Yuan', 'Koustuv Saha', 'Barbara Keller', 'Erkki Tapio Isometsä', 'Talayeh Aledavood', 'Artem Kuriksha', 'Priyanka Goonetilleke', 'Anastasia Karpova', 'Peter Meylakhs', 'Sebastian Mildiner Moraga', 'Fionneke M Bos', 'Bennard Doornbos', 'Richard Bruggeman', 'Lian van der Krieke', 'Evelien Snippe', 'Emmeke Aarts', 'Elizaveta Sivak', 'Malvina Nissim', 'Gert Stulp', 'Frederik Andersen', 'Pantelis P. Analytis', 'Diana Verdes', 'Kristian Peter Lorenzen', 'Julian Berger', 'Ralf Kurvers', 'Elias Najarro', 'Claire Glanois', 'Louisa Jane Di Felice', 'Djordje Grbic', 'Meysam Alizadeh', 'Darya Zare', 'Mohammadhadi Aliahmadi', 'Mael Kubli', 'Sarvenaz Ebrahimi', 'Fabrizio Gilardi', 'Jaime Pérez', 'Edmond Awad', 'Gregorio López', 'Mario Castro', 'Daniel Valdenegro', 'Charles Rahal', 'Joel Harrison Suss', 'Dylan Connor', 'Tom Kemeny', 'Junsol Kim', 'Byungkyu Lee', 'Erkan Gunes', 'Christoffer Koch Florczak', 'Vasanth Sarathy', 'Sonja M Schmer-Galunder', 'Dan Thomsen', 'Laurel Bobrow', 'Richard Freedman', 'Sanja Scepanovic', 'Marios Constantinides', 'Daniele Quercia', 'Zachary Pangan', 'Eiji Aramaki', 'Shoko Wakamiya', 'Kongmeng Liew', 'Shuntaro Yada', 'Wan Jou She', 'Alessandro Gambetti', 'Qiwei Han', 'Veniamin Veselovsky', 'Ashton Anderson', 'Rupert Tibor Kiddle', 'Anne Kroon', 'Kasper Welbers', 'Damian Trilling', 'Satoshi Tohda', 'Naoki Yoshinaga', 'Masashi Toyoda', 'Regina Widjaya', 'Galen Stocking', 'Aaron Smith', 'Amin Mekacher', 'Max Falkenberg', 'Andrea Baronchelli', 'Giuseppe Russo', 'Manoel Horta Ribeiro', 'Giona Casiraghi', 'Luca Verginer', 'Fengyuan Michael Liu', 'Talal Rahwan', 'Bedoor Alshebli', 'Sylvain Fontaine', 'Floriana Gargiulo', 'Michel Dubois', 'Paola Tubaro', 'Jose Miguel Cordova', 'Emoke-Agnes Horvat', 'Daniel Romero', 'Aliakbar Akbaritabar', 'Andres F. Castro Torres', 'Vincent Lariviere', 'Cassidy R. Sugimoto', 'Erin Walk', 'Aliakbar Akbaritabar', 'Sam Zhang', 'Nicholas LaBerge', 'Daniel Larremore', 'Aaron Clauset', 'Edmond Awad', 'Indrajeet Patil', 'Erez Yoeli', 'Iyad Rahwan', 'Zoe K. Rahwan', 'Elohim Fonseca dos Reis', 'Alex Teytelboym', 'Abeer ElBahrawy', 'Andrea Baronchelli', 'Ella Clement', 'Alejandro Beltran', 'Kathyrn R Fair', 'Sebastian Steffen', 'Nikolitsa Grigoropoulou', 'Mario L. Small', 'Daniela Perrotta', 'Tom Theile', 'Carlos Callejo Penalba', 'Kiran Garimella', 'Ingmar Weber', 'Emilio Zagheni', 'Lavinia Rossi Mori', 'Vittorio Loreto', 'Riccardo Di Clemente', 'Erick Elejalde', 'Victor Navarro', 'Loreto Bravo', 'Emilio Zagheni', 'Leo Ferres', 'Francisco Barreras', 'Bethany Hsiao', 'Duncan J Watts', 'Nandini Iyer', 'Ronaldo Menezes', 'Hugo Barbosa', 'Yuan Liao', 'Jorge Gil', 'Sonia Yeh', 'Laura Maria Alessandretti', 'Giuseppe Russo', 'Christoph Benedikt Gote', 'Laurence Brandenberger', 'Sophia Johanna Schlosser', 'Frank Schweitzer', 'Niklas Stoehr', 'Benjamin J Radford', 'Ryan Cotterell', 'Aaron Schein', 'Rémi Perrier', 'Laura Hernandez', 'Mariano Gastón Beiró', 'José Ignacio Alvarez-Hamelin', 'Dimitris Kotzinos', 'Kayla Duskin', 'Kristen Engel', 'Emma Spiro', 'Victoria Yantseva', 'Davide Vega', 'Matteo Magnani', 'Dylan Paltra', 'Felix Schmidt', 'Marius Sältzer', 'Lena Masch', 'Vincent Straub', 'Jason Burton', 'Michael Geers', 'Hao Cui', 'János Kertész', 'Jia Lin Cheoh', 'Sabine Brunswicker', 'Hammaad Adam', 'Fan Yin', 'Mary Hu', 'Neil A. Tenenholtz', 'Lorin Crawford', 'Lester Mackey', 'Allison Koenecke', 'Homa Hosseinmardi', 'Amir Ghasemian', 'Miguel Rivera-Lanas', 'Manoel Ribeiro', 'Robert West', 'Duncan Watts', 'Martin Hilbert', 'Arti Thakur', 'Angelita Repetto', 'Akira Hashimoto', 'Sho Tsugawa', 'Keiichiro Tsukamoto', 'Shintaro Igari', 'Anne Cathrine Linder', 'David Lusseau', 'Diogo Pacheco', 'Jonas Alexander Havstein Eriksen', 'Christoffer Koch Florczak', 'Valentina Semenova', 'Julian Winkler', 'Nicholas Buttrick', 'Mark E Whiting', 'Mariano Gaston Beiro', 'Kyriaki Kalimeri', 'Spencer Poodiack Parsons', 'Brennan Klein', 'Michele Tizzoni', 'Elisa Omodei', 'Tobias Felix Werner', 'Nils Christopher Köbis', 'Iyad Rahwan', 'Zoe Rahwan', 'Tamer Ajaj', 'Clara Bersch', 'Eric Dignum', 'Quinn Lanners', 'Harsh Parikh', 'Cynthia Rudin', 'Alexander Volfovsky', 'David Page', 'Amy Smith', 'Hope Schroeder', 'Ziv Epstein', 'Michael Cook', 'Simon Colton', 'Andrew Lippman', 'Nicolò Pagan', 'Joachim Baumann', 'Ezzat Elokda', 'Giulia De Pasquale', 'Saverio Bolognani', 'Anikó Hannák', 'Jan Engler', 'Sandipan Sikdar', 'Marlene Lutz', 'Markus Strohmaier', 'Maria Sahakyan', 'Bedoor AlShebli', 'Talal Rahwan', 'Ceren Budak', 'Natalie J. Stroud', 'Ashley Muddiman', 'Caroline C. Murray', 'Yujin Kim', 'Yoshi Meke Bird', 'Sarah Grobe', 'Dilrukshi Gamage', 'Kazutoshi Sasahara', 'Emily L Wang', 'Luca Luceri', 'Francesco Pierri', 'Emilio Ferrara', 'Andrew Beers', 'Emma Spiro', 'Antonio Desiderio', 'Anna Mancini', 'Riccardo Di Clemente', 'Giulio Cimini', 'Sadamori Kojaku', 'Robert Mahari', 'Sandro Lera', 'Esteban Moro', 'Alex Pentland', 'Yong-Yeol Ahn', 'Aliakbar Akbaritabar', 'Maciej J. Dańko', 'Emilio Zagheni', 'Xinyi Zhao', 'Aditi Dutta', 'Chico Q Camargo', 'Susan Banducci', 'Yurie Iwata', 'Ichiro Sakata', 'Kimitaka Asatani', 'Takahiro Miura', 'Yingxuan Liu', 'Paulina Pankowska', 'Tom Emery', 'Adrienne Mendrik', 'Javier Ureña Carrion', 'Fariba Karimi', 'Gerardo Iñiguez', 'Mikko Kivelä', 'Christian L Vestergaard', 'Laetitia Gauvin', 'Mathieu Génois', 'Márton Karsai', 'Mikko Kivelä', 'Taro Takaguchi', 'Eugenio Valdano', 'Abdulkadir Celikkanat', 'Nikolaos Nakis', 'Morten Mørup', 'Radosław Michalski', 'Damian Serwata', 'Mateusz Nurek', 'Boleslaw K. Szymanski', 'Przemyslaw Kazienko', 'Tao Jia', 'Shahar Somin', 'Yaniv Altshuler', 'Alex Pentland', 'Erez Shmueli', 'Samin Aref', 'Hriday Chheda', 'Mahdi Mostajabdaveh', 'Pietro Alessandro Aluffi', 'Léo Meynent', 'Clemens Stachl', 'Thomas Louf', 'David Sanchez', 'Jose Javier Ramasco', 'Marton Karsai', 'Tessa Masis', 'Chloe Eggleston', 'Lisa Green', 'Taylor Jones', 'Meghan Armstrong', \"Brendan O'Connor\", 'Federico Barrera Lemarchand', 'Laura Victoria Lescano', 'Julieta Ruiz', 'Nuria Caceres', 'Facundo Carrillo', 'Mariano Sigman', 'Joaquín Navajas', 'Mahasweta Chakraborti', 'Stefan Stanciulescu', 'Vladimir Filkov', 'Seth Frey', 'Dustin Wright', 'Jiaxin Pei', 'David Jurgens', 'Isabelle Augenstein', 'Antonio Desiderio', 'Anna Mancini', 'Giulio Cimini', 'Riccardo Di Clemente', 'Wentao Xu', 'Bin Wang', 'Jianxun Chu', 'Miriam Hurtado Bodell', 'Anastasia Menshikova', 'Chico Q Camargo', 'Ranadheer Malla', 'Ana Julia Bonzanini Bernardi', 'Isabela Inês', 'Rodger Richer', 'Camila Tsuzuki', 'Beatrice Bonami', 'Nicolò Alessandro Girardini', 'Simone Centellegher', 'Andrea Passerini', 'Ivano Bison', 'Fausto Giunchiglia', 'Bruno Lepri', 'Anastasia Menshikova', 'Christian Czymara', 'Frank van Tubergen', 'Daniele Gambetta', 'Luca Pappalardo', 'Giovanni Mauro', 'Roberta Rocca', 'Kristian Tylén', 'Federico Zimmerman', 'Lucía Pedraza', 'Pablo Balenzuela', 'Joaquín Navajas', 'Jonathan Cohen', 'Jorge Gil', 'Leonardo Rosado', 'Corrado Monti', 'Marco Pangallo', 'Francesco Bonchi', 'Gianmarco De Francisci Morales', 'Matthew Bramwell Bone', 'Xindi Wang', 'Alexander J Gates', 'Magnus Resch', 'Albert-Laszlo Barabasi', 'Tara Sowrirajan', 'Ryan Whalen', 'Sourav Medya', 'Brian Uzzi', 'Luisa Carrer', 'Lorenzo De Masi', 'Vjosa Preniqi', 'Andreas Kaltenbrunner', 'Kyriaki Kalimeri', 'Charalampos Saitis', 'Ole Teutloff', 'Otto Kässi', 'Eliza Stenzhorn', 'Douglas Richard Guilbeault', 'Martin Arvidsson', 'Marc Keuschnigg', 'Matthew Sharpe', 'Sandor Juhasz', 'Eddie Rossi', 'Marco Agnolon', 'Bruno Zamengo', 'Francesco Silvestri', 'Alice Battiston', 'Rossano Schifanella', 'Andrew Renninger', 'Blas Kolic', 'Manuel Tonneau', 'Haaya Naushan', 'Eaman Jahani', 'Karim Lasri', 'Niyati Malhotra', 'Victor Hugo Orozco-Olvera', 'Samuel Fraiberger', 'Ming-Hung Wang', 'Jia-Ru Song', 'Yu-Yao Tseng', 'Jana Lasser', 'Alina Herderich', 'Joshua Garland', 'Segun Aroyehun', 'David Garcia', 'Mirta Galesic', 'Eaman Jahani', 'Blas Kolic', 'Manuel Tonneau', 'Hause Lin', 'Niyati Malhotra', 'Ibrahim Farouq', 'Victor Hugo Orozco-Olvera', 'Samuel Fraiberger', 'Fatima Alqabandi', 'Graham Tierney', 'D. Sunshine Hillygus', 'Christopher Bail', 'Alexander Volfovsky', 'Yilang Peng', 'Tian Yang', 'Subhayan Mukerjee', 'Aleksandra Urman', 'Mykola Makhortykh', 'Stefan Katz', 'Hugo Subtil', 'Arnault Chatelain', 'Felix Lennert', 'Etienne Ollion', 'Rubing Shen', 'Tiancheng Hu', 'Manoel Horta Ribeiro', 'Robert West', 'Andreas Spitz', 'Jan Nikadon', 'Lejla Dzanko', 'Tomaso Erseghe', 'Caterina Suitner', 'Michał Olech', 'Paweł Jurek', 'Magdalena Formanowicz', 'Yuru Li', 'Szymon Talaga', 'Massimo Stella', 'Trevor James Swanson', 'Andreia Sofia Teixeira', 'Filipi Nascimento Silva', 'Edwin De Jonge', 'Dingeman Jan Van der Laan', 'Nate Holers', 'Lena Mangold', 'Camille Roth', 'Ferdinand Le Coz', 'Guillaume Cabanac', 'Julien Figeac', 'Laura Victoria Lescano', 'Federico Barrera-Lemarchand', 'Julieta Ruiz', 'Nuria Caceres', 'Facundo Carrillo', 'Mariano Sigman', 'Joaquín Navajas', 'Simon Walo', 'Samsun Knight', 'Yakov Bart', 'Matt Rocklage', 'Ziwen Chen', 'Amir Goldberg', 'Douglas Richard Guilbeault', 'Ana Macanovic', 'Damiano Morando', 'Aidan Combs', 'Xinwei Xu', 'Alessandro Lomi', 'Christoph Stadtfeld', 'Pantelis P Analytis', 'Karthikeya Kaushik', 'Stefan Herzog', 'Bahador Bahrami', 'Ophelia Deroy', 'Hiroki Takikawa', 'Zeyu Lyu', 'Zhemeng Xie', 'Takaharu Saito', 'Aguru Ishibashi', 'Mark Wittek', 'Katharina Burgdorf', 'Simone Santoni', 'Juergen Lerner', 'Alessandro Lomi', 'Yiwei Luo', 'Kristina Gligoric', 'Dan Jurafsky', 'Subhayan Mukerjee', 'Mohammad Amaan Haque', 'Taberez Ahmed Neyazi', 'Roney Reis', 'Ronaldo Menezes', 'Angelo Brayner', 'Miguel Souza', 'Edward Abel', 'Sajid Siraj', 'David Lusseau', 'Alexander Sobieska', 'Cheng Pan', 'Maximilian Hampel', 'Pia Gutsmiedl', 'Rosa Weidenspointner', 'Seong-Min Jun', 'Valentin Pauli', 'Corrado Monti', 'Matteo Cinelli', 'Carlo Valensise', 'Walter Quattrociocchi', 'Michele Starnini', 'Giuseppe Russo', 'Luca Verginer', 'Manoel Horta Ribeiro', 'Giona Casiraghi', 'Arianna Pera', 'Manuel Vimercati', 'Matteo Palmonari', 'Manju Bura', 'Chico Q Camargo', 'Tenzin Tamang', 'Amy Munz', 'Ralph Schroeder', 'Scott A. Hale', 'Matthew Bramwell Bone', 'Matthew Bramwell Bone', 'Kobi Hackenburg', 'Blas Kolic', 'Fabián Aguirre-López', 'Miguel A González Casado', 'Angel Sánchez', 'Byungkyu Lee', 'Kangsan Lee', 'Anna Sokolova', 'Haiko Lietz', 'Mathieu Génois', 'Johann Schaible', 'Maria Zens', 'Marcos A. Oliveira', 'Amir Ghasemian', 'Nicholas Christakis', 'Josefine Bohr Brask', 'Andreas Koher', 'Darren Croft', 'Sune Lehmann', 'Vedran Sekara', 'Ivan Dotu', 'Manuel Cebrian', 'Esteban Moro', 'Manuel Garcia-Herranz', 'Sonja M Schmer-Galunder', 'Scott Friedman', 'Vasanth Sarathy', 'Rense Corten', 'Laura Boeschoten', 'Vsevolod Suschevskiy', 'Lindsay Larson', 'Malte Jung', 'Leslie DeChurch', 'Noshir Contractor', 'Pearl Pandya', 'Armin Pournaki', 'Leonie Neuhäuser', 'Jan Bachmann', 'Markus Strohmaier', 'Fariba Karimi', 'Michael T Schaub', 'Daniel Matter', 'Jürgen Pfeffer', 'Federico Mazzoni', 'Andrea Failla', 'salvatore Citraro', 'Giulio Rossetti', 'Chiara Chiavenna', 'Lorenzo Lucchini', 'Laura Leone', 'Maria Cucciniello', 'Alessia Melegaro', 'Mathieu Génois', 'Maria Zens', 'Marcos Oliveira', 'Johann Schaible', 'Ziv Epstein', 'Eyal Perry', 'Micah Epstein', 'Max Lagencamp', 'Irmandy Wicaksono', 'Cathy Fang', 'OcÃ©ane Boulais', 'Hope Schroeder', 'Ray Funahashi', 'Christian Almenar', 'Alex Pentland', 'Ziv Epstein', 'Hause Lin', 'Gordon Pennycook', 'David Rand', 'Antonio Longa', 'Veronica Lachi', 'Gabriele Santin', 'Monica Bianchini', 'Bruno Lepri', 'Pietro Lio', 'franco scarselli', 'Andrea Passerini', 'Sahil Loomba', 'Rubén Rodríguez Casañ', 'Alessio Vincenzo Cardillo', 'Elisabet CarbÃ³ Catalan', 'Javier Borge Holthoefer', 'Diana Roig Sanz', 'Ali Yassin', 'Abbas Haidar', 'Hocine Cherifi', 'Hamida Seba', 'Olivier Togni', 'Elena Pavan', 'Anna Bertani', 'Riccardo Gallotti', 'Dan Dai', 'Guangnan Zhu', 'Francesco Pierri', 'Matthew R DeVerna', 'Kai-Cheng Yang', 'David Axelrod', 'John Bryden', 'Filippo Menczer', 'Shohei Hisamitsu', 'Sho Cho', 'Hongshan Jin', 'Masashi Toyoda', 'Naoki Yoshinaga', 'Cameron Lai', 'Fujio Toriumi', 'Mitsuo Yoshida', 'Haoning Xue', 'Jingwen Zhang', 'Qiusi Sun', 'Haoning Xue', 'Cuihua Shen', 'Elisabeth Stockinger', 'Riccardo Gallotti', 'Carina Ines Hausladen', 'Dorian Quelle', 'Calvin Yixiang Cheng', 'Scott A. Hale', 'Christiern Santos Rasmussen', 'Amir Ebrahimi Fard', 'Marijn ten Thij', 'Aliaksandr Herasimenka', 'Benedikt Ströbl', 'Dorian Quelle', 'Kate Joynes-Burgess', 'Samantha Vanderslott', 'Jonathan Bright', 'Philip Howard', 'Scott A Hale', 'Adriano Belisario', 'Ahmed Nasser Mostafa', 'Chico Q Camargo', 'Sukrit Venkatagiri', 'Kristen Engel', 'Ashlyn B. Aske', 'Connor Cantrell', 'Giulio Corsi', 'Luca Rossi', 'Fabio Giglietto', 'Giada Marino', 'Luca Rossi', 'Fabio Giglietto', 'Giada Marino', 'Javier Alvarez-Galvez', 'Antonio Rojas-Garcia', 'Ilaria Montagni', 'Ourania Kolokotroni', 'Angelos Kassianos', 'Salim Chouaki', 'Oana Goga', 'Stephan Lewandowsky', 'Fabio Carrella', 'Jana Lasser', 'David Garcia', 'Segun Aroyehun', 'Almog Simchon', 'Hope Schroeder', 'Shayne Longpre', 'Deb Roy', 'Alejandro Dinkelberg', 'Pádraig Mac Carron', 'Michael Quayle', 'Keeley Erhardt', 'Saurabh Khanna', 'Avi Gamoran', 'Michael Gilead', 'Ke Li', 'Jie Hua', 'Pu Yan', 'Fabian Baumann', 'Agnieszka Czaplicka', 'Iyad Rahwan', 'Tim Faverjon', 'Samin Aref', 'Mahdi Mostajabdaveh', 'Hriday Chheda', 'Carlson Moses Büth', 'Anastassia Vybornova', 'Michael Szell', 'Luigi Arminio', 'Luca Rossi', 'PJ Lamberson', 'Gülşah Akçakır', 'Anastassia Vybornova', 'Gülşah Akçakır', 'Chanuwas Aswamenakul', 'Michał‚ Czuba', 'Piotr Bródka', 'Mykola Makhortykh', 'Silke Adam', 'Maryna Sydorova', 'Franziska Keller', 'Aleksandra Urman', 'Jamell Dacon', 'Jiliang Tang', 'Akrati Saxena', 'George Fletcher', 'Mykola Pechenizkiy', 'Marie Decker', 'Laila Wegner', 'Carmen Leicht-Scholten', 'Anna Seo Gyeong Choi', 'Allison Koenecke', 'Orestis Papakyriakopoulos', 'Anna Seo Gyeong Choi', 'Alice Xiang', 'Allison Koenecke', 'Meysam Alizadeh', 'Emma Hoes', 'Fabrizio Gilardi', 'Peidong Mei', 'Stefan Sarkadi', 'Edmond Awad', 'Reid McIlroy-Young', 'Siddhartha Sen', 'Jon Kleinberg', 'Ashton Anderson', 'Bhargav Srinivasa Desikan', 'James Evans', 'Jeff T Sheng', 'Sima Farokhnejad', 'Marcos Oliveira', 'Eraldo Ribeiro', 'Ronaldo Menezes', 'Alberto Amaduzzi', 'Lucila Alvarez-Zuzek', \"Valeria D'Andrea\", 'Simone Centellegher', 'Lorenzo Lucchini', 'Filippo Privitera', 'Manlio De Domenico', 'Bruno Lepri', 'Marta Gonzalez', 'Armando Bazzani', 'Riccardo Gallotti', 'Louis Boucherie', 'Kevin Sparks', 'Christa Brelsford', 'Jesse Piburn', 'Andy Berres', 'Marie Urban', 'Gautam Thakur', 'Anastassia Vybornova', 'Tiago Oliveira Cunha', 'Astrid Gühnemann', 'Michael Szell', 'Yan Asadchy', 'Takahiro Yabe', 'Maximilan Schich', 'Alex Pentland', 'Esteban Moro', 'Ollie Ballinger', 'Sam Heroy', \"Neave O'Clery\", 'Pablo Andres Astudillo', 'Giovanni Mauro', 'Nicola Pedreschi', 'Luca Pappalardo', 'Renaud Lambiotte', 'Fátima Velásquez-Rojas', 'Massimiliano Luca', 'Erjian Liu', 'José Javier Ramasco', 'Massimiliano Luca', 'Luca Pappalardo', 'Bruno Lepri', 'Gianni Barlacchi', 'Takayuki Mizuno', 'Taizo Horikomi', 'Shouji Fujimoto', 'Atushi Ishikawa', 'Katinka Den Nijs', 'Vedran Sekara', 'Hasan Alp Boz', 'Mohsen Bahrami', 'Selim Balcisoy', 'Alex Pentland', 'Sanggoo Kang', 'Ohhyun Kwon', 'Woo-sung Jung', 'Luca Maria Aiello', 'Sandor Juhasz', 'Anastassia Vybornova', ' Bokányi', 'Michael Szell', 'Adam Finnemann', 'Denny Borsboom', 'Sacha Epskamp', 'Cesar Augusto Marin', 'Jesus Berrios', 'Loreto Bravo', 'Vittoria Colizza', 'Leo Ferres', 'Clodomir Santana', 'Federico Botta', 'Hugo Barbosa', 'Filippo Privitera', 'Ronaldo Menezes', 'Riccardo Di Clemente', 'Hui Wang', 'Becky P.Y. Loo', 'Hugo Contreras', 'Rodrigo Troncoso', 'Leonardo Ferres', 'Carlos Rodriguez', 'Hugo Contreras', 'Leonardo Ferres', 'Rodrigo Troncoso', 'Carlos Rodriguez', 'Ting Lian', 'Becky P.Y. Loo', 'Zhuangyuan Fan', 'Kristina Gligoric', 'Justyna Czestochowska', 'Ashton Anderson', 'Robert West', 'Sydney DeMets', 'Emma Spiro', 'Inês Terrucha', 'Elias Fernández Domingos', 'Rémi Suchonn', 'Francisco C Santos', 'Pieter Simoens', 'Tom Lenaerts', 'Srishti Vashistha', 'Rosalia Steffi Longjam', 'Rishabh Kaushal', 'Felix Victor Münch', 'Jan-Philipp Rau', 'Philipp Kessling', 'Mingmeng Geng', 'Roberto Trotta', 'Sara Venturini', 'Satyaki Sikdar', 'Francesco Rinaldi', 'Francesco Tudisco', 'Santo Fortunato', 'Silvia De Sojo Caso', 'Mia Ann Jørgensen', 'Sune Lehmann', 'Laura Alessandretti', 'Emil Bakkensen Johansen', 'Mathias Wullum Nielsen', 'Levin Brinkmann', 'Bramantyo Supriyatno', 'Iyad Rahwan', 'Takahiro Miura', 'Kimitaka Asatani', 'Ichiro Sakata', 'Xinyi Zhao', 'Aliakbar Akbaritabar', 'Ridhi Kashyap', 'Emilio Zagheni', 'Katie Spoon', 'Nicholas LaBerge', 'K. Hunter Wapman', 'Sam Zhang', 'Allison Christine Morgan', 'Mirta Galesic', 'Bailey Fosdick', 'Daniel Larremore', 'Aaron Clauset', 'Munjung Kim', 'Sadamori Kojaku', 'Yong-Yeol Ahn', 'Ana María Jaramillo', 'Mariana Macedo', 'Marcos Oliveira', 'Fariba Karimi', 'Ronaldo Menezes', 'Filipi Nascimento Silva', 'Sadamori Kojaku', 'Lili Miao', 'Yong-Yeol Ahn', 'Sadamori Kojaku', 'Clara Boothby', 'Filipi Nascimento Silva', 'Attila Varga', 'Xiaoran Yan', 'Stasa Milojevic', 'Alessandro Flamini', 'Filippo Menczer', 'Yong-Yeol Ahn', 'Tongyu Ding', 'Qing Ke', 'Alexander J Gates', 'Indraneel Mane', 'Louis M Shekhtman', 'Alexander J Gates', 'Albert-Laszlo Barabasi', 'Mengjie Cheng', 'Daniel Scott Smith', 'Xiang Ren', 'Hancheng Cao', 'Sanne Smith', 'Daniel A. McFarland', 'Bedoor AlShebli', 'Shahan Ali Memon', 'James Evans', 'Talal Rahwan', 'Cristian E Candia', 'Cesar A Hidalgo', 'Melanie Oyarzun', 'Victor Landaeta', 'Cecilia Monge', 'Tamara Yaikin', 'Carlos Rodriguez-Sickert', 'Robin Delabays', 'Melvyn Tyloo', 'Mark Wittek', 'Frank Berthold', 'Christoph Bartenhagen', 'Mariana Macedo', 'Ana Maria Jaramillo', 'Ronaldo Menezes', 'Xiaohui WANG', 'Wen Hao HE', 'Han Zheng', 'Jonathan Zhu', 'Kevin Munger', 'Drew Dimmery', 'Yizhou Fan', 'Kaixiang Kang', 'NAKAO Ran', 'Alexandra Florea', 'Lea Biere', 'Ilona Horwath', 'Silvia Ioana Fierăscu', 'Saumya Tripathi', 'Telmo Menezes', 'Antonin Pottier', 'Camille Roth', 'Margarita Torre', 'Jesús A. Prieto-Alonso', 'Iñaki Ucar', 'Taekho You', 'Jinseo Park', 'June Young Lee', 'Jinhyuk Yun', 'Emil Bakkensen Johansen', 'Oliver Baumann', 'Akrati Saxena', 'Mariana Macedo', 'Yevgeniy Golovchenko', 'Karolina Stanczak', 'Rebecca Adler-Nissen', 'Patrice Wangen', 'Isabelle Augenstein', 'Zhixuan Zhou', 'Jiao Sun', 'Jiaxin Pei', 'Nanyun Peng', 'Jinjun Xiong', 'Yang Wang', 'Giyeon Baek', 'Bedoor Alshebli', 'Enshu Cheng', 'Marcin Waniek', 'Ramesh Jagannathan', 'Pablo Hernández-Lagos', 'Talal Rahwan', 'David Joyner', 'Jaehyuk Park', 'Fabian Baumann', 'Agnieszka Czaplicka', 'Iyad Rahwan', 'Mingjing Yin', 'Carolina Coimbra Vieira', 'Marisa Vasconcelos', 'Carolina Coimbra Vieira', 'Ebru Sanliturk', 'Emilio Zagheni', 'Daniele Rama', 'Tiziano Piccardi', 'Miriam Redi', 'Robert West', 'Rossano Schifanella', 'Tiziano Piccardi', 'Martin Gerlach', 'Akhil Arora', 'Robert West', 'Tiziano Piccardi', 'Martin Gerlach', 'Robert West', 'Shintaro Sakai', 'Yasuhiro Suzuki', 'Thomas Franz Müller', 'Levin Brinkmann', 'James Winters', 'Niccolo Pescetelli', 'Federico Pilati', 'Oriol Artime', 'Pier Luigi Sacco', 'Aidar Zinnatullin', 'Fredrik Jansson', 'Isabel Sebire', 'Chico Q Camargo', 'Levin Brinkmann', 'Thomas Franz Müller', 'Valerii Chirkov', 'Sara Bonati', 'Maxim Derex', 'Anne-Marie Nussberger', 'Iyad Rahwan', 'Daniel Torren Peraire', 'Ivan Savin', 'Hyeseung Shim', 'Jihoon Kim', 'Jaehong Ahn', 'Chung-Kon Shi', 'Christoph Kern', 'Rob Chew', 'Jacob Beck', 'Stephanie Eckman', 'Frauke Kreuter', 'Narayani Vedam', 'Subhayan Mukerjee', 'Pu Yan', 'Scott A. Hale', 'Huiyi Lv', 'Stephen Davies', 'Ahmad Hesam', 'Zaid Al-Ars', 'Fons Rademakers', 'Frank Pijpers', 'Jason Hiigh Thompson', 'Paul Salmon', 'Chris Baber', 'Scott McClean', 'Gemma Read', 'Tony Carden', 'Neville Stanton', 'Lillio Mok', 'Michael Inzlicht', 'Ashton Anderson', 'Kristina Aleksandrovna Pedersen', 'Yevgeniy Golovchenko', 'Jonas Raaschou-Pedersen', 'Anna Rogers', 'Kun He', 'Qianru Meng', 'Xiao Zhang', 'Malvina Nissim', 'Neeley Pate', 'Inga Trauthig', 'Josephine Lukito', 'Samuel Woolley', 'Anna Di Natale', 'David Garcia', 'Shatayu Kulkarni', 'Sabine Brunswicker', 'Theresa Henn', 'Sarah Tell', 'Julian Polenz', 'Oliver Posegga', 'Lama Abdulrahman Alqazlan', 'Andrea W Wang', 'Allison Koenecke', 'David Mimno', 'Francisco Olivos', 'Ana Alonso Curbelo', 'Shintaro Ueki', 'Fujio Toriumi', 'Toshiharu Sugawara', 'Moena Hashimoto', 'Yotaro Takazawa', 'Kazutoshi Sasahara', 'Linda Coufal', 'Lion Wedel', 'Priyanshi Sharma', 'Somya Tomar', 'Disha Saini', 'Rishabh Kaushal', 'Fabian Braesemann', 'Alexandra Rottenkolber', 'Ole Teutloff', 'Vadim Voskresenskii', 'Trisevgeni Papakonstantinou', 'Paulina Bondaronek', 'Daniela Valdes', 'Juan Carlos Rocha', 'Victor Galaz', 'Silvia Leoni', 'Andrea Gentili', 'Hiu Sze Chan', 'Nabeel Gillani', 'Doug Beeferman', 'Cassandra Overney', 'Christine Vega Pourheydarian', 'Deb Roy', 'Kumar Chandra', 'Frank Pantano', 'George Bikhazi', 'Nabeel Gillani', 'Kunihiro Miyazaki', 'Takayuki Uchiba', 'Haewoon Kwak', 'Jisun An', 'Kazutoshi Sasahara', 'Sota Watanabe', 'Genki Ichinose', 'Catalina Vajiac', 'Arun Frey', 'Joachim Baumann', 'Abby Smith', 'Marcos Oliveira', 'Junran Yang', 'Denis Bonnay', 'Juhi Kulshrestha', 'Kazuhiro Seki', 'Lisette Espin Noboa', 'Serine Ramlawi', 'Marton Karsai', 'Daniel J Corsi', 'Timothy Douglas', 'Licia Capra', 'Mirco Musolesi', 'Huiyi Lyu', 'Pu Yan', 'Ralph Schroeder', 'Ayan-Yue Gupta', 'Xinlan Emily Hu', 'Duncan J Watts', 'Saeedeh Mohammadi', 'Gabriela Juncosa', 'Margaret Samahita', 'Taha Yasseri', 'Dennis Assenmacher', 'Leon Fröhling', 'Claudia Wagner', 'Andrés Gvirtz', 'Matteo Montecchi', 'Amy Selby', 'Friedrich Götz', 'Sujan Dutta', 'Beibei Li', 'Daniel Nagin', 'Ashiqur R KhudaBukhsh', 'Indira Sen', 'Mattia Samory', 'Claudia Wagner', 'Isabelle Augenstein', 'Lorenzo Lucchini', 'Ollin Demian Langle-Chimal', 'Bruno Lepri', 'Samuel Fraiberger', 'Max Pellert', 'Hannah Metzler', 'Michael Matzenberger', 'David Garcia', 'Dongwoo Lim', 'Mikihito Tanaka', 'Fujio Toriumi', 'Mitsuo Yoshida', 'Luca Maria Aiello', 'Daniele Quercia', 'Sagar Joglekar', 'Varun Tandon', 'Vrushabh Vilas Wadnere', 'Ashiqur R KhudaBukhsh', 'Michael Vincent Arnold', 'Christopher Danforth', 'Peter Dodds', 'Andrés Gvirtz', 'Sanja Šćepanović', 'Jason Rentfrow', 'Daniele Quercia', 'Gabriele Etta', 'Matteo Cinelli', 'Michele Avalle', 'Walter Quattrociocchi', 'Matthew DeVerna', 'Rachith Aiyappa', 'Diogo Pachecho', 'John Bryden', 'Filippo Menczer', 'Erin Walk', 'Michele Coscia', 'Clara Vandeweerdt', 'Aleksandra Urman', 'Mykola Makhortykh', 'Kunihiro Miyazaki', 'Taichi Murayama', 'Akira Matsui', 'Takayuki Uchiba', 'Haewoon Kwak', 'Jisun An', 'Suyash Fulay', 'Nabeel Gillani', 'Deb Roy', 'Jisu Kim', 'Alina Sîrbu', 'Giulio Rossetti', 'Fosca Giannotti', 'Hillel Rapoport', 'Roberta Rocca', 'Katharina Lawall', 'Hendrik Erz', 'Alejandro Hermida Carrillo', 'Amir Goldberg', 'Alfredo Hernandez Sanchez', 'Nicholas J Pangakis', 'Samuel Wolken', 'Neil Fasching', 'Sami Alexej Nenno', 'Yiyan Zhang', 'Qin Li', 'Ruhao Liu', 'Zishan Lan', 'Xiaoya Chen', 'Hope Schroeder', 'Doug Beeferman', 'Deb Roy', 'Tobin South', 'Guy Zyskind', 'Robert Mahari', 'Alex Pentland', 'Max Pellert', 'Clemens M. Lechner', 'Claudia Wagner', 'Beatrice Rammstedt', 'Markus Strohmaier', 'Wentao Xu', 'Bin Wang', 'Vera Sosnovik', 'Linda Li', 'Balazs Vedres', 'Orsolya Vasarhelyi', 'Marieke Van Hoof', 'Damian Trilling', 'Corine Meppelink', 'Judith Moeller', 'Fan Liang', 'Yuchen Cao', 'Zsófia Rakovics', 'Márton Rakovics', 'Yan Xia', 'Antti Gronow', 'Arttu Malkamäki', 'Tuomas Ylä-Anttila', 'Barbara Keller', 'Mikko Kivelä', 'Mariana Macedo', 'Melanie Oyarzun', 'Cesar A Hidalgo', 'Pablo Moral', 'Huma Rasheed', 'Casey Randazzo', 'Melissa J Dreier', 'Akeela Careem', 'Li Liao', 'Wenna Chen', 'Sawa Yoshioka', 'Tomomi Kito', 'Anne C Kroon', 'Rens Vliegenthart', 'Jeroen Jonkman', 'Shaun Bevan', 'Christoffer Green-Pedersen', 'Damian Trilling', 'Alessia Antelmi', 'Daniele De Vinco', 'Carmine Spagnuolo', 'Gennaro Cordasco', 'Duilio Balsamo', 'Jakob Schlierf', 'Lorenzo Lucchini', 'Alessia Melegaro', 'Lui Ruck', 'Jacob R Brown', 'Enrico Cantoni', 'Sahil Chinoy', 'Martin Koenen', 'Vincent Pons', 'Khalid K Osman', 'Florian Barbaro', 'Andy Skumanich', 'Mykola Makhortykh', 'Aleksandra Urman', 'Roberto Ulloa', 'Juhi Kulshrestha', 'Layla Bouzoubaa', 'Shadi Rezapour', 'Yoshi Meke Bird', 'Denis E Hudon', 'Mohamed Abouelenien', 'Mihai Burzo', 'Rada Mihalcea', 'Yelena Mejova', 'Anya Hommadova Lu', 'Karim Hamade', 'Reid McIlroy-Young', 'Siddhartha Sen', 'Jon Kleinberg', 'Ashton Anderson', 'Mohammed Alsobay', 'Abdullah Almaatouq', 'Cassandra Overney', 'Belén C Saldías Fuentes', 'Dimitra Dimitrakopoulou', 'Deb Roy', 'Manuel Vimercati', 'Matteo Palmonari', 'Lion Wedel', 'Mónika Simon', 'Savvas Zannettou', 'Kasper Welbers', 'Anne Kroon', 'Damian Trilling', 'Tornike Tsereteli', 'Simone Paolo Ponzetto', 'Zexun Chen', 'Sean Kelty', 'Alexandre Evsukoff', 'Brooke Foucault Welles', 'James Bagrow', 'Ronaldo Menezes', 'Gourab Ghoshal', 'Sonja M Schmer Galunder', 'Gwyneth Sutherlin', 'Adam H. Russell', 'Akira Tsurushima', 'Piyush Ghasiya', 'Balaraju Battu', 'Talal Rahwan', 'Isabella Loaiza', 'Takahiro Yabe', 'Alex Pentland', 'Indira Sen', 'Daniele Quercia', 'Marios Constantinides', 'Matteo Montecchi', 'Licia Capra', 'Sanja Scepanovic', 'Renzo Bianchi', 'Indira Sen', 'Debora Nozza', 'Francesco Barbieri', 'Sharon Kang', 'Jaehyuk Park', 'Nguyen Luong', 'Ian Barnett', 'Talayeh Aledavood', 'Mark E Whiting', 'Amirhossein Nakhaei', 'Jiani Yan', 'Toshiya Saito', 'Takayuki Mizuno', 'Athina Anastasiadou', 'Artem Volgin', 'Douglas Leasure', 'Cristian E Candia', 'Mohammad Atari', 'Nour Kteily', 'Brian Uzzi', 'Masanori Hirano', 'Kiyoshi Izumi', 'Veronika Batzdorfer', 'Julia Huschens', 'Holger Steinmetz', 'Laura Casanovas Buliart', 'Priscila Alvarez-Cueva', 'Carlos Castillo', 'Karmanya Aggarwal', 'Baird Howland', 'David Rothschild', 'Duncan J. Watts', 'Mareike Wieland', 'Gerret von Nordheim', 'Katharina Kleinen', 'Luiz Neves', 'Chico Q Camargo', 'Xuanjun Jason Gong', 'Haoning Xue', 'Likun Cao', 'Qiankun Zhong', 'Kenjiro Inoue', 'Mitsuo Yoshida', 'Michelangelo Rossi', 'Tommaso Bondi', 'Ryan Louis Stevens', 'Samar Haider', 'David Rothschild', 'Duncan Watts', 'Samar Haider', 'David Rothschild', 'Chris Callison-Burch', 'Duncan Watts', 'Lin Ai', 'Yu-Wen Chen', 'Yuwen Yu', 'Seoyoung Kweon', 'Julia Hirschberg', 'Sarah Ita Levitan', 'Pearl Pandya', 'Armin Pournaki', 'Jean-Philippe Cointet', 'Eladio Montero-Porras', 'Riccardo Gallotti', 'Jelena Grujić', 'Tom Lenaerts', 'Marcin Waniek', 'Navya Suri', 'Abdullah Zameek', 'Bedoor AlShebli', 'Talal Rahwan', 'Elizaveta Chernenko', 'Delphine De Moor', 'Jordan Hart', 'Camille Testard', 'Alex Mielke', 'Alba Motes Rodrigo', 'Josefine Bohr Brask', 'Dan Franks', 'Matthew Silk', 'Lauren Brent', 'Hikaru Asano', 'Osamu Sakura', 'Cornelius Puschmann', 'Helena Sophia Rauxloh', 'Sebastian Stier', 'Katrin Weller', 'Juhi Kulshrestha', 'Ronald E. Robertson', 'Amy Dunphy', 'Shelby Grossman', 'Shotaro Ishihara', 'Hiromu Takahashi', 'Hono Shirai', 'Roman Kyrychenko', 'Matija Franklin', 'Carlos Fernandez-Basso', 'Darko Stojilovic', 'Hal Ashton', 'Bertram Malle', 'Edmond Awad', 'Vanessa Cheung', 'Srdja Dragovic', 'David Lagnado', 'Johannes Ross', 'Vera Rocha', 'Tom Grad', 'Jörg Claussen', 'Aidan Combs', 'Lynn Smith-Lovin', 'Alexandros Gelastopoulos', 'Pantelis Analytis', 'Gaël Le Mens', 'Arnout van de Rijt', 'Mahnaz Roshanaei', 'Sumer Vaid', 'Andrea Leigh Courtney', 'Serena Jimyn Soh', 'Jamil Zaki', 'Gabriella Harari', 'Coen D Needell', 'Elliot Pickens', 'David M Rothschild', 'Duncan J Watts', 'Rachith Aiyappa', 'Yong-Yeol Ahn', 'Shintaro Sakai', 'Matthew Sharpe', 'Renaud Lambiotte', 'Anna George', 'Jonathan Bright', 'Ana Valdivia']\n",
      "Number of names:  1475\n"
     ]
    }
   ],
   "source": [
    "names = []\n",
    "# Find the sections with names\n",
    "sections = soup.find_all(\"ul\",{\"class\":\"nav_list\"})\n",
    "for section in sections:\n",
    "\n",
    "    # Find names within section\n",
    "    bullets = section.find_all(\"i\")\n",
    "    for nameline in bullets:\n",
    "\n",
    "        # Split into each name and add to list\n",
    "        names.extend(nameline.text.split(\", \"))\n",
    "        \n",
    "print(names)\n",
    "print(\"Number of names: \", len(list(set(names))))"
   ]
  },
  {
   "cell_type": "markdown",
   "metadata": {},
   "source": [
    "Combined list of all researchers"
   ]
  },
  {
   "cell_type": "code",
   "execution_count": 5,
   "metadata": {},
   "outputs": [
    {
     "name": "stdout",
     "output_type": "stream",
     "text": [
      "Number of names:  1491\n"
     ]
    }
   ],
   "source": [
    "# Combine all lists into one\n",
    "all_names = keynotes + chairs + names\n",
    "\n",
    "# Remove duplicates\n",
    "all_names = list(set(all_names))\n",
    "\n",
    "print(\"Number of names: \", len(all_names))"
   ]
  },
  {
   "cell_type": "code",
   "execution_count": 6,
   "metadata": {},
   "outputs": [],
   "source": [
    "# Save names in csv\n",
    "df = pd.DataFrame(all_names, columns=[\"name\"])\n",
    "df.to_csv(\"names.csv\", index=False)"
   ]
  },
  {
   "cell_type": "markdown",
   "metadata": {},
   "source": [
    "How many unique researchers do you get?\n",
    "* 1491\n",
    "\n",
    "Explain the process you followed to web-scrape the page. \n",
    "Which choices did you make to accurately retreive as many names as possible? Which strategies did you use to assess the quality of your final list?\n",
    "* First, a detailed inspection of the page was made. The sections containing names were found:\n",
    "    * An overview table containing keynote speakers (< td >)\n",
    "    * Plenary talks containing chairs (< h2 >) and speakers (< i >)\n",
    "    * Parallel talks containing chairs (< h2 >) and speakers (< i >)\n",
    "    * Posters (< i >)\n",
    "* The sections were scraped for names. In the overview table, each row was searched to find the cells including \"Keynote\". Next in each section, the search was made in the subtitles < h2 >, where the italic text including the word \"Chairs\" was saved to a list. In the sections of plenary, parallel and poster talks the lines of the schedule were searched, in which the italic text was found and added to a list, where the names were split by \",\". \n",
    "* Finally the lists combined. \n",
    "* To ensure a better quality of the name list, potential duplicates were removed by turning the list into a set and then back to a list.\n"
   ]
  },
  {
   "cell_type": "markdown",
   "metadata": {},
   "source": [
    "# Part 2: Ready Made vs Custom Made Data"
   ]
  },
  {
   "cell_type": "markdown",
   "metadata": {},
   "source": [
    "What are pros and cons of the custom-made data used in Centola's experiment (the first study presented in the lecture) and the ready-made data used in Nicolaides's study (the second study presented in the lecture)?\n",
    "* Centola's data samples and experimental setup were highly controlled, so the causal effect of clustered vs random networks on spread behavior could be investigated while avoiding confounding effects effectively. However, ethical aspects of transparency of the experimental data could be discussed, as the people registering to the health website were not informed about their participation of the experiment. The controlled set-up might also create an artificial environment not accurately reflecting clustered networks of the real world.  \n",
    "\n",
    "* The observational data from the fitness tracking app combined with the social network app used in Nicolaide's study, provided large samples under real world conditions, reflecting the users actual behaviors in their natural environments. However as control of data collecting were limited, potential biases in the app's user base can affect the generalizability of the findings. Other external variables may also affect the found correlation, such as the motivation or other explanations as homophily.  \n",
    "  \n",
    "\n",
    "How do you think these differences can influence the interpretation of the results in each study?\n",
    "* The findings of Centola's experiment are likely more internally valid because of the controlled setup which helps isolating the variables of interest and reduce external factors. This difference makes for a more clear understanding of the causal relationship between network structures and spread behavior. However, because of the artificial environment and lack of transparency, the results of Centola’s study may have limited external validity.\n",
    "* On the other side, the results of Nicolaide's study are more applicable to real-world scenarios, dealing with the complexity of actual social networks. However, because of the lack of control over the data collection there might be potential biases and confounding variables, making it necessary to interpret the findings with caution.\n"
   ]
  },
  {
   "cell_type": "markdown",
   "metadata": {},
   "source": [
    "# Part 3: Gathering Research Articles using the OpenAlex API"
   ]
  },
  {
   "cell_type": "markdown",
   "metadata": {},
   "source": [
    "Import packages and define functions used throughout Part 3 of the assignment."
   ]
  },
  {
   "cell_type": "code",
   "execution_count": 7,
   "metadata": {},
   "outputs": [],
   "source": [
    "import requests\n",
    "import pandas as pd\n",
    "import tqdm\n",
    "import unicodedata\n",
    "\n",
    "def get_concept_ids(concept_requirements):\n",
    "    \"\"\"\n",
    "    Retrieves the OpenAlex concept_ids for a list of requirements.\n",
    "    \"\"\"\n",
    "\n",
    "    BASE_URL = 'https://api.openalex.org'\n",
    "    RESOURCE = '/concepts'\n",
    "\n",
    "    concept_ids = []\n",
    "    for concept in concept_requirements:\n",
    "        result = requests.get(BASE_URL + RESOURCE, params={'search': concept, 'filter': 'level:0'}).json()\n",
    "        concept_ids.append(result['results'][0]['id'])\n",
    "\n",
    "    concept_ids = [id.split(\"/\")[-1] for id in concept_ids]\n",
    "    return concept_ids\n",
    "\n",
    "\n",
    "def get_articles_from_authors(names, concept_ids_requirements_1, concept_ids_requirements_2, subset=False):\n",
    "    \"\"\"\n",
    "    Extracts articles from authors in the names table.\n",
    "        The articles are filtered by the criteria from the assignment description.\n",
    "    \"\"\"\n",
    "    \n",
    "    BASE_URL = 'https://api.openalex.org'\n",
    "    RESOURCE = '/works'\n",
    "\n",
    "    # Filter out authors not having 5-5000 works\n",
    "    names = names[(names['works_count']>=5) & (names['works_count']<=5000)]\n",
    "\n",
    "    table1 = []\n",
    "    table2 = []\n",
    "\n",
    "    # Search for articles in batches of 25 authors\n",
    "    name_batches = [list(names['id'][i:i+25]) for i in range(0, len(names), 25)]\n",
    "\n",
    "    for num_name_batch, name_batch in tqdm.tqdm(enumerate(name_batches)):\n",
    "    \n",
    "        # short version for testing\n",
    "        if subset and num_name_batch>0:\n",
    "            break\n",
    "\n",
    "        # Scroll through the results\n",
    "        cursor = '*'\n",
    "        while True:\n",
    "            filters = ['cited_by_count:>10', \n",
    "                        'authors_count:<10',\n",
    "                        'authorships.author.id:'+'|'.join(name_batch),\n",
    "                        'concepts.id:'+'|'.join(concept_ids_requirements_1),\n",
    "                        'concepts.id:'+'|'.join(concept_ids_requirements_2)\n",
    "                        ]\n",
    "            parameters = {'per-page': 200,\n",
    "                            'filter': ','.join(filters),\n",
    "                            'cursor': cursor\n",
    "                            }\n",
    "            result = requests.get(BASE_URL + RESOURCE, params=parameters).json()\n",
    "\n",
    "            # If last page is reached (which is empty), break \n",
    "            cursor = result['meta']['next_cursor'] # next page for next search\n",
    "            if len(result['results'])==0 or cursor is None:\n",
    "                break\n",
    "\n",
    "            # Go through all articles and extract information\n",
    "            for n_article,article in enumerate(result['results']):\n",
    "                try:\n",
    "                    tab1 = [article['id'], article['publication_year'], article['cited_by_count'], [author['author']['id'] for author in article['authorships']]]\n",
    "                    tab2 = [article['id'], article['title'], article['abstract_inverted_index']]\n",
    "                    table1.append(tab1)\n",
    "                    table2.append(tab2)\n",
    "\n",
    "                except:\n",
    "                    print(\"skipped name batch:\", num_name_batch, \"article:\", n_article)\n",
    "                    continue\n",
    "    \n",
    "    table1 = pd.DataFrame(table1, columns=['id', 'publication_year', 'cited_by_count', 'authors'])\n",
    "    table2 = pd.DataFrame(table2, columns=['id', 'title', 'abstract_inverted_index'])\n",
    "\n",
    "    return table1, table2\n"
   ]
  },
  {
   "cell_type": "markdown",
   "metadata": {},
   "source": [
    "Authors from week 2 is downloaded\n",
    "\n",
    "(workflow in different file: \"data_preperation.ipynb\" since its is not part of the task)"
   ]
  },
  {
   "cell_type": "code",
   "execution_count": 8,
   "metadata": {},
   "outputs": [],
   "source": [
    "authors = pd.read_csv('data/authors.csv')"
   ]
  },
  {
   "cell_type": "markdown",
   "metadata": {},
   "source": [
    "First, the concept_ids from the desired concepts are retrieved (for use in the search)"
   ]
  },
  {
   "cell_type": "code",
   "execution_count": 9,
   "metadata": {},
   "outputs": [],
   "source": [
    "# Get concept ids\n",
    "concepts_requirements_1 = ['Sociology', 'Psychology', 'Economics', 'Political Science']\n",
    "concepts_requirements_2 = ['Mathematics', 'Physics', 'Computer Science']\n",
    "concept_ids_1 = get_concept_ids(concepts_requirements_1)\n",
    "concept_ids_2 = get_concept_ids(concepts_requirements_2)"
   ]
  },
  {
   "cell_type": "markdown",
   "metadata": {},
   "source": [
    "Based on the author dataset, the authors' articles and abstracts are retrieved, using the specified filters.\n",
    "Then duplicates are removed and the two datasets are saved as CSV-files."
   ]
  },
  {
   "cell_type": "code",
   "execution_count": 10,
   "metadata": {},
   "outputs": [
    {
     "name": "stderr",
     "output_type": "stream",
     "text": [
      "41it [02:42,  3.97s/it]\n"
     ]
    },
    {
     "name": "stdout",
     "output_type": "stream",
     "text": [
      "Number of works in papers dataframe:  8189\n",
      "Unique researchers that have co-authored these works:  12776\n"
     ]
    }
   ],
   "source": [
    "# Get articles and abstracts \n",
    "articles_from_authors, abstracts_from_authors = get_articles_from_authors(authors, concept_ids_1, concept_ids_2, subset=False)\n",
    "\n",
    "# Drop duplicates from articles and abstracts\n",
    "papers = articles_from_authors.drop_duplicates(subset=['id'])\n",
    "abstracts = abstracts_from_authors.drop_duplicates(subset=['id'])\n",
    "\n",
    "print(\"Number of works in papers dataframe: \",len(papers))\n",
    "print(\"Unique researchers that have co-authored these works: \",len(papers['authors'].copy().explode().unique()))\n",
    "\n",
    "# Save articles to csv\n",
    "papers.to_csv(\"data/papers.csv\", index=False)\n",
    "abstracts.to_csv(\"data/abstracts.csv\", index=False)"
   ]
  },
  {
   "cell_type": "markdown",
   "metadata": {},
   "source": [
    "Dataset summary: How many works are listed in your IC2S2 papers dataframe?\n",
    "* 8189\n",
    "\n",
    "How many unique researchers have co-authored these works?\n",
    "* 12776\n",
    "\n",
    "Efficiency in code: Describe the strategies you implemented to make your code more efficient. How did your approach affect your code's execution time?\n",
    "* As many search filters as possible were moved to the filter-parameter, as this resulted in fewer results to loop through.\n",
    "* Additionally, the searches were done in batches of names (size=25), paging through the results (200 per page), thereby avoiding many non-full pages. This sped up the run time a lot.\n",
    "* Parallel processing was not implemented due to lack of time. This would have sped up the runtime drastically, but was mostly relevant in the functions not included in this script.\n",
    "* When creating the author table, if a name-search didn't contain all desired columns, it was dropped. This results in fewer names than desired but avoids a dataset with missing values. During the same process, if multiple results for a name was found, the first exact match was used. This ensured that names like Adam and Alan weren't interchanged, even though both showed up in results.\n",
    "\n",
    "\n",
    "Filtering Criteria and Dataset Relevance: Reflect on the rationale behind setting specific thresholds for the total number of works by an author, the citation count, the number of authors per work, and the relevance of works to specific fields. How do these filtering criteria contribute to the relevance of the dataset you compiled? \n",
    "* Filtering of field semantics attempts to get articles within our desired scientific field.\n",
    "* Citation thresholding to >10 citations avoids articles that aren't well-recognized within the field.\n",
    "* Author thresholds on >5 works ensures that relevant and active authors are selected. Limiting to authors with <5000 articles attempts to limit to relevant authors within our desired field. Many articles increases the likelihood that the author is working on a very wide range of or in interdisciplinary fields, which could be an irrelevant author.\n",
    "* Thresholding to <10 authors per work also attempts to avoid very broad and non-specific (irrelevant) articles.\n",
    "\n",
    "\n",
    "Do you believe any aspects of Computational Social Science research might be underrepresented or overrepresented as a result of these choices?\n",
    "* On one hand, the thresholding could lead to the exclusion of too many authors, because they don't satisfy our thresholds.\n",
    "* But we believe that there is a greater amount of included irrelevant authors, eg. based on the semantic filters. For example, a random physics article with political importance would be included because of the semantic filters. This would be irrelevant to our search, and there could be many other examples."
   ]
  },
  {
   "cell_type": "markdown",
   "metadata": {},
   "source": [
    "# Part 4: The Network of Computational Social Scientists"
   ]
  },
  {
   "cell_type": "markdown",
   "metadata": {},
   "source": [
    "The code in this part is based on the authors_final and papers_final datasets, which are found as in Week 3 Part 1 Exercise 2. To see how these datasets are prepared, see data_preparation.ipynb on our Github."
   ]
  },
  {
   "cell_type": "code",
   "execution_count": 2,
   "metadata": {},
   "outputs": [
    {
     "name": "stderr",
     "output_type": "stream",
     "text": [
      "C:\\Users\\danie\\AppData\\Local\\Temp\\ipykernel_44296\\2114238610.py:2: DeprecationWarning: \n",
      "Pyarrow will become a required dependency of pandas in the next major release of pandas (pandas 3.0),\n",
      "(to allow more performant data types, such as the Arrow string type, and better interoperability with other libraries)\n",
      "but was not found to be installed on your system.\n",
      "If this would cause problems for you,\n",
      "please provide us feedback at https://github.com/pandas-dev/pandas/issues/54466\n",
      "        \n",
      "  import pandas as pd\n"
     ]
    }
   ],
   "source": [
    "import networkx as nx\n",
    "import pandas as pd\n",
    "import matplotlib.pyplot as plt\n",
    "import tqdm\n",
    "import ast\n",
    "import itertools\n",
    "from statistics import median, mode\n",
    "import json\n",
    "import numpy as np\n",
    "\n",
    "# Load papers and authors csv-file\n",
    "papers = pd.read_csv('data/papers_final.csv')\n",
    "authors = pd.read_csv('data/authors_final.csv')\n",
    "\n",
    "# Loading string list from CSV\n",
    "papers['authors'] = papers['authors'].apply(ast.literal_eval)\n",
    "\n",
    "# From the dataframe pull the authors\n",
    "co_authors = papers['authors']"
   ]
  },
  {
   "cell_type": "markdown",
   "metadata": {
    "collapsed": false
   },
   "source": [
    "## Part 1: Network Construction:\n",
    "\n",
    "#### 1.  Weighted Edgelist Creation: \n",
    "Start with your dataframe of papers. Construct a weighted edgelist where each list element is a tuple containing three elements: the author ids of two collaborating authors and the total number of papers they've co-authored. Ensure each author pair is listed only once.\n",
    "\n",
    "\n",
    "#### 2.  Graph Construction: \n",
    "- Use NetworkX to create an undirected Graph.\n",
    "- Employ the add_weighted_edges_from function to populate the graph with the weighted edgelist from step 1, creating a weighted, undirected graph."
   ]
  },
  {
   "cell_type": "code",
   "execution_count": 3,
   "metadata": {
    "collapsed": false
   },
   "outputs": [],
   "source": [
    "GRR = nx.Graph()\n",
    "\n",
    "# Dictionary to store the count of collaborations between author pairs\n",
    "collaboration_count = {}\n",
    "\n",
    "for author_list in co_authors:\n",
    "    author_list = sorted(author_list)\n",
    "    \n",
    "    if len(author_list) == 1:\n",
    "        GRR.add_node(author_list[0])\n",
    "        \n",
    "    for author_pair in itertools.combinations(author_list,2):\n",
    "        if author_pair in collaboration_count:\n",
    "            collaboration_count[author_pair] += 1\n",
    "        else:\n",
    "            collaboration_count[author_pair] = 1\n",
    "            \n",
    "edge_list = []\n",
    "for (author1, author2), count in collaboration_count.items():\n",
    "    edge_list.append((author1, author2, count))\n",
    "    \n",
    "GRR.add_weighted_edges_from(edge_list)"
   ]
  },
  {
   "cell_type": "code",
   "execution_count": 4,
   "metadata": {},
   "outputs": [
    {
     "name": "stdout",
     "output_type": "stream",
     "text": [
      "Graph with 12578 nodes and 47712 edges\n"
     ]
    }
   ],
   "source": [
    "print(GRR)"
   ]
  },
  {
   "cell_type": "markdown",
   "metadata": {
    "collapsed": false
   },
   "source": [
    "#### 3. Node Attributes:\n",
    "\n",
    "* For each node, add attributes for the author's display name, country, citation count, and the year of their first publication in Computational Social Science. The display name and country can be retrieved from your authors dataset. The year of their first publication and the citation count can be retrieved from the papers dataset.\n",
    "* Save the network as a JSON file."
   ]
  },
  {
   "cell_type": "code",
   "execution_count": 5,
   "metadata": {
    "collapsed": false
   },
   "outputs": [
    {
     "name": "stderr",
     "output_type": "stream",
     "text": [
      "  0%|          | 0/12578 [00:00<?, ?it/s]"
     ]
    },
    {
     "name": "stderr",
     "output_type": "stream",
     "text": [
      "100%|██████████| 12578/12578 [05:49<00:00, 36.04it/s]\n"
     ]
    }
   ],
   "source": [
    "# Add attributes for each node\n",
    "for node in tqdm.tqdm(GRR.nodes()):\n",
    "    \n",
    "    # Filter papers for the current author\n",
    "    author_papers = papers[papers['authors'].apply(lambda x: node in x)] # find papers that the author has contributed to\n",
    "\n",
    "    # Check if the author has any publications\n",
    "    if not author_papers.empty:\n",
    "        first_publication_year = author_papers['publication_year'].min()\n",
    "        total_citation_count = author_papers['cited_by_count'].sum()\n",
    "    else:\n",
    "        first_publication_year = 0\n",
    "        total_citation_count = 0\n",
    "    \n",
    "    display_name = authors[authors['id'] == node][\"display_name\"].values[0]\n",
    "    country = authors[authors['id'] == node][\"country_code\"].values[0]\n",
    "   \n",
    "    # Add node attributes    \n",
    "    GRR.nodes[node][\"display_name\"] = display_name\n",
    "    GRR.nodes[node][\"country\"] = country\n",
    "    GRR.nodes[node][\"first_publication_year\"] = str(first_publication_year)\n",
    "    GRR.nodes[node][\"citation_count\"] = str(total_citation_count)\n"
   ]
  },
  {
   "cell_type": "code",
   "execution_count": 12,
   "metadata": {},
   "outputs": [],
   "source": [
    "import networkx as nx\n",
    "import math\n",
    "\n",
    "# Assuming G is your NetworkX graph\n",
    "for node, attributes in GRR.nodes(data=True):\n",
    "    for key, value in attributes.items():\n",
    "        # Check if the value is NaN, inf, or -inf\n",
    "        if isinstance(value, float) and (math.isnan(value) or math.isinf(value)):\n",
    "            # Replace with None or a suitable placeholder value\n",
    "            GRR.nodes[node][key] = None\n"
   ]
  },
  {
   "cell_type": "code",
   "execution_count": 13,
   "metadata": {},
   "outputs": [],
   "source": [
    "for u, v, attributes in GRR.edges(data=True):\n",
    "    for key, value in attributes.items():\n",
    "        # Check if the value is NaN, inf, or -inf\n",
    "        if isinstance(value, float) and (math.isnan(value) or math.isinf(value)):\n",
    "            # Replace with None or a suitable placeholder value\n",
    "            GRR.edges[u, v][key] = None\n"
   ]
  },
  {
   "cell_type": "code",
   "execution_count": 14,
   "metadata": {},
   "outputs": [
    {
     "data": {
      "text/plain": [
       "(None, None)"
      ]
     },
     "execution_count": 14,
     "metadata": {},
     "output_type": "execute_result"
    }
   ],
   "source": [
    "# Extract the largest connected components from your network. \n",
    "# The largest connected component is the one with the largest number of nodes.\n",
    "largest_cc = max(nx.connected_components(GRR), key=len)\n",
    "\n",
    "# Visualize the largest connected component using the function visualize of the Netwulf package.\n",
    "\n",
    "largest_cc = max(nx.connected_components(GRR), key=len)\n",
    "\n",
    "largest_subgraph = GRR.subgraph(largest_cc).copy()\n",
    "\n",
    "from netwulf import visualize\n",
    "\n",
    "visualize(largest_subgraph)\n",
    "\n"
   ]
  },
  {
   "cell_type": "markdown",
   "metadata": {},
   "source": [
    "Converting the network to a JSON file"
   ]
  },
  {
   "cell_type": "code",
   "execution_count": 9,
   "metadata": {
    "collapsed": false
   },
   "outputs": [],
   "source": [
    "# Convert the network to a JSON file\n",
    "graph_data = nx.json_graph.node_link_data(GRR)\n",
    "\n",
    "# Save the JSON data to a file\n",
    "with open(\"data/graph_data.json\", \"w\") as json_file:\n",
    "    json.dump(graph_data, json_file)"
   ]
  },
  {
   "cell_type": "markdown",
   "metadata": {
    "collapsed": false
   },
   "source": [
    "## Part 2: Preliminary Network Analysis "
   ]
  },
  {
   "cell_type": "code",
   "execution_count": 16,
   "metadata": {
    "collapsed": false
   },
   "outputs": [
    {
     "name": "stdout",
     "output_type": "stream",
     "text": [
      "Graph with 12578 nodes and 47712 edges\n",
      "Density: 0.00060321\n",
      "The graph is disconnected.\n",
      "The number of connected components: 87\n",
      "The number of isolated nodes: 10\n"
     ]
    }
   ],
   "source": [
    "# total number of nodes and links in the network:\n",
    "print(GRR)\n",
    "\n",
    "graph_density = nx.density(GRR)\n",
    "print(f\"Density: {graph_density:.8f}\")\n",
    "\n",
    "# Check if the graph is connected\n",
    "is_fully_connected = nx.is_connected(GRR)\n",
    "\n",
    "if is_fully_connected:\n",
    "    print(\"The graph is fully connected.\")\n",
    "else:\n",
    "    print(\"The graph is disconnected.\")\n",
    "\n",
    "# Find connected components\n",
    "connected_components = list(nx.connected_components(GRR))\n",
    "print(\"The number of connected components:\",len(connected_components))\n",
    "\n",
    "# Find isolated nodes\n",
    "isolated_nodes = list(nx.isolates(GRR))\n",
    "print(\"The number of isolated nodes:\",len(isolated_nodes))"
   ]
  },
  {
   "cell_type": "markdown",
   "metadata": {},
   "source": [
    "#### 1. Network Metrics\n",
    "What is the total number of nodes (authors) and links (collaborations) in the network?\n",
    "* The total number of nodes is 12578 with 47712 links.\n",
    "\n",
    "Calculate the network's density (the ratio of actual links to the maximum possible number of links). Would you say that the network is sparse? Justify your answer.\n",
    "* The network's density is 0.00060321. The network is sparse, as only 0.6% of the possible number of links are present in the network.\n",
    "\n",
    "Is the network fully connected (i.e., is there a direct or indirect path between every pair of nodes within the network), or is it disconnected?\n",
    "* The network is disconnected, as there are isolated nodes in the network.\n",
    "\n",
    "If the network is disconnected, how many connected components does it have? A connected component is defined as a subset of nodes within the network where a path exists between any pair of nodes in that subset.\n",
    "* There are 87 connected components in the network. \n",
    "\n",
    "How many isolated nodes are there in your network? An isolated node is defined as a node with no connections to any other node in the network.\n",
    "* There are 10 isolated nodes in the network. "
   ]
  },
  {
   "cell_type": "markdown",
   "metadata": {
    "collapsed": false
   },
   "source": [
    "Discuss the results above on network density, and connectivity. Are your findings in line with what you expected? Why? (answer in max 150 words)\n",
    "* The low network density is expected, since it is unrealistic that every author has collaborated with every other author. Another reason for this is that the authors may work in completely different fields and because the scientists are in different social/professional groups. \n",
    "* The large number of connected components is not a surprise, as social networks tend to cluster as seen in Centola's experiment."
   ]
  },
  {
   "cell_type": "markdown",
   "metadata": {
    "collapsed": false
   },
   "source": [
    "#### 2. Degree Analysis:\n",
    "- Compute the average, median, mode, minimum, and maximum degree of the nodes. Perform the same analysis for node strength (weighted degree)."
   ]
  },
  {
   "cell_type": "code",
   "execution_count": 17,
   "metadata": {
    "collapsed": false
   },
   "outputs": [
    {
     "name": "stdout",
     "output_type": "stream",
     "text": [
      "Degree Analysis:\n",
      "Average Degree: 7.586579742407378\n",
      "Median Degree: 6.0\n",
      "Mode Degree: 4\n",
      "Minimum Degree: 0\n",
      "Maximum Degree: 166\n",
      "\n",
      "Weighted Degree Analysis:\n",
      "Average Weighted Degree: 13.498966449356018\n",
      "Median Weighted Degree: 7.0\n",
      "Mode Weighted Degree: 4\n",
      "Minimum Weighted Degree: 0\n",
      "Maximum Weighted Degree: 344\n"
     ]
    }
   ],
   "source": [
    "# Compute node degrees\n",
    "degrees = dict(GRR.degree())\n",
    "weighted_degrees = dict(GRR.degree(weight='weight'))\n",
    "\n",
    "# Compute the specificied values\n",
    "average_degree = np.mean(list(degrees.values()))\n",
    "median_degree = median(list(degrees.values()))\n",
    "try:\n",
    "    mode_degree = mode(list(degrees.values())) #Degree value that occurs with highest frequency among the nodes\n",
    "except:\n",
    "    mode_degree = \"No unique mode\"\n",
    "min_degree = min(degrees.values())\n",
    "max_degree = max(degrees.values())\n",
    "\n",
    "# Same calculations but for STRENGTH (WEIGHTED DEGREE)\n",
    "average_weighted_degree = np.mean(list(weighted_degrees.values()))\n",
    "median_weighted_degree = median(list(weighted_degrees.values()))\n",
    "try:\n",
    "    mode_weighted_degree = mode(list(weighted_degrees.values()))\n",
    "except:\n",
    "    mode_weighted_degree = \"No unique mode\"\n",
    "min_weighted_degree = min(weighted_degrees.values())\n",
    "max_weighted_degree = max(weighted_degrees.values())\n",
    "\n",
    "print(\"Degree Analysis:\")\n",
    "print(f\"Average Degree: {average_degree}\")\n",
    "print(f\"Median Degree: {median_degree}\")\n",
    "print(f\"Mode Degree: {mode_degree}\")\n",
    "print(f\"Minimum Degree: {min_degree}\")\n",
    "print(f\"Maximum Degree: {max_degree}\")\n",
    "\n",
    "print(\"\\nWeighted Degree Analysis:\")\n",
    "print(f\"Average Weighted Degree: {average_weighted_degree}\")\n",
    "print(f\"Median Weighted Degree: {median_weighted_degree}\")\n",
    "print(f\"Mode Weighted Degree: {mode_weighted_degree}\")\n",
    "print(f\"Minimum Weighted Degree: {min_weighted_degree}\")\n",
    "print(f\"Maximum Weighted Degree: {max_weighted_degree}\")"
   ]
  },
  {
   "cell_type": "markdown",
   "metadata": {
    "collapsed": false
   },
   "source": [
    "What do these metrics tell us about the network? (answer in max 150 words)\n",
    "* On average the scientists have collaborated with almost 8 other unique scientists, but most have only collaborated with 4 others, as seen on the mode degree. \n",
    "* The average degree being larger than both the median and mode degree suggests that a few scientists have significantly more unique collaborators as seen in the maximum degree of 166 (The degree distribution is right-skewed).\n",
    "* Taking the repeated collaborations (weights) into account, the average and maximum degree has increased and the patterns mentioned above are enhanced (More right-skewed distribution). As the mode degree remains 4, the increased average and maximum degree suggests that a few scientists collaborate with many scientists and that they collaborate multiple times with them. "
   ]
  },
  {
   "cell_type": "markdown",
   "metadata": {
    "collapsed": false
   },
   "source": [
    "#### 3. Top Authors\n",
    "- Identify the top 5 authors by degree. "
   ]
  },
  {
   "cell_type": "code",
   "execution_count": 18,
   "metadata": {
    "collapsed": false
   },
   "outputs": [
    {
     "name": "stdout",
     "output_type": "stream",
     "text": [
      "Top 5 Authors by Degree:\n",
      "Author-ID: https://openalex.org/A5075080019\n",
      "Name: Qin Li\n",
      "Degree: 166\n",
      "Author-ID: https://openalex.org/A5005493160\n",
      "Name: Mariano Sigman\n",
      "Degree: 151\n",
      "Author-ID: https://openalex.org/A5017914184\n",
      "Name: Stephan Lewandowsky\n",
      "Degree: 145\n",
      "Author-ID: https://openalex.org/A5029100305\n",
      "Name: Denny Borsboom\n",
      "Degree: 140\n",
      "Author-ID: https://openalex.org/A5055710645\n",
      "Name: Jon Kleinberg\n",
      "Degree: 127\n"
     ]
    }
   ],
   "source": [
    "# Identify the top 5 authors by degree\n",
    "top_authors = sorted(degrees.items(), key=lambda x: x[1], reverse=True)[:5]\n",
    "\n",
    "# Print the top authors and their degrees\n",
    "print(\"Top 5 Authors by Degree:\")\n",
    "for author, degree in top_authors:\n",
    "    name = authors[authors['id'] == author]['display_name']\n",
    "    print(f\"Author-ID: {author}\")\n",
    "    print(f\"Name: {name.values[0]}\")\n",
    "    print(f\"Degree: {degree}\")"
   ]
  },
  {
   "cell_type": "markdown",
   "metadata": {},
   "source": [
    "What role do these node play in the network?\n",
    "* These are the authors who have collaborated with the most people. It could be that the authors have either published many works or that their published works have many authors (but 10 or less). But it is probably a mix of both. These top authors are likely to be renowned and valuable in their fields."
   ]
  },
  {
   "cell_type": "markdown",
   "metadata": {
    "collapsed": false
   },
   "source": [
    "Research these authors online. What areas do they specialize in? Do you think that their work aligns with the themes of Computational Social Science? If not, what could be possible reasons? (answer in max 150 words)\n",
    "\n",
    "Qin Li:\n",
    "* Biology/Chemistry\n",
    "* Environmental science\n",
    "\n",
    "Mariano Sigman:\n",
    "* Cognitive/Neuro science\n",
    "\n",
    "Stephan Lewandowsky\n",
    "* Psychology\n",
    "* Environmental science\n",
    "\n",
    "Denny Borsboom\n",
    "* Psychology\n",
    "* Computer science\n",
    "\n",
    "Jon Kleinberg\n",
    "* Information science\n",
    "* Social science\n",
    "\n",
    "\n",
    "As seen above, most of the authors have specialized fields that align well with computational social science. However, the two most collaborating authors (Li and Sigman) seem to be very specialized within fields that deviates slightly from computational social science. This may be because they are used in works for expert knowledge, since their fields are useful for social science research. "
   ]
  }
 ],
 "metadata": {
  "kernelspec": {
   "display_name": "CompSS",
   "language": "python",
   "name": "python3"
  },
  "language_info": {
   "codemirror_mode": {
    "name": "ipython",
    "version": 3
   },
   "file_extension": ".py",
   "mimetype": "text/x-python",
   "name": "python",
   "nbconvert_exporter": "python",
   "pygments_lexer": "ipython3",
   "version": "3.10.13"
  }
 },
 "nbformat": 4,
 "nbformat_minor": 2
}
